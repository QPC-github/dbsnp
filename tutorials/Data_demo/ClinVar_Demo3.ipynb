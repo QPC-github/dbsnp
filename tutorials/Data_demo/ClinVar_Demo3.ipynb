{
  "cells": [
    {
      "metadata": {
        "trusted": true
      },
      "cell_type": "code",
      "source": "import os, sys\n!pip install pandas\n!pip install pytabix",
      "execution_count": 168,
      "outputs": [
        {
          "output_type": "stream",
          "text": "Requirement already satisfied: pandas in /home/nbuser/anaconda3_420/lib/python3.5/site-packages (0.19.2)\nRequirement already satisfied: python-dateutil>=2 in /home/nbuser/anaconda3_420/lib/python3.5/site-packages (from pandas) (2.7.5)\nRequirement already satisfied: pytz>=2011k in /home/nbuser/anaconda3_420/lib/python3.5/site-packages (from pandas) (2016.6.1)\nRequirement already satisfied: numpy>=1.7.0 in /home/nbuser/anaconda3_420/lib/python3.5/site-packages (from pandas) (1.16.1)\nRequirement already satisfied: six>=1.5 in /home/nbuser/anaconda3_420/lib/python3.5/site-packages (from python-dateutil>=2->pandas) (1.11.0)\nRequirement already satisfied: pytabix in /home/nbuser/anaconda3_420/lib/python3.5/site-packages (0.1)\n",
          "name": "stdout"
        }
      ]
    },
    {
      "metadata": {
        "trusted": true
      },
      "cell_type": "code",
      "source": "import pandas as pd\nimport tabix\nimport matplotlib.pyplot as plt",
      "execution_count": 169,
      "outputs": []
    },
    {
      "metadata": {
        "trusted": true
      },
      "cell_type": "code",
      "source": "df = pd.read_csv(\"https://ftp.ncbi.nih.gov/snp/temp/Demo_Data/ClinVarSNP_Demo3.csv\")",
      "execution_count": 188,
      "outputs": []
    },
    {
      "metadata": {
        "trusted": true
      },
      "cell_type": "code",
      "source": "#convert snp_id to int\ndf.info()\ndf['SNP_ID'] = df['SNP_ID'].astype(int)",
      "execution_count": 189,
      "outputs": [
        {
          "output_type": "stream",
          "text": "<class 'pandas.core.frame.DataFrame'>\nRangeIndex: 41994 entries, 0 to 41993\nData columns (total 10 columns):\nCHR_ACC       41994 non-null object\nCHR           41994 non-null object\nPOS           41994 non-null float64\nSNP_ID        41994 non-null int64\nMAF_1000G     6069 non-null float64\nMAF_ExAC      30551 non-null float64\nMAF_TOPMED    24221 non-null float64\nMAF_ESP       9573 non-null float64\nGENE          41994 non-null object\nGENE_GROUP    41994 non-null object\ndtypes: float64(5), int64(1), object(4)\nmemory usage: 3.2+ MB\n",
          "name": "stdout"
        }
      ]
    },
    {
      "metadata": {
        "trusted": true
      },
      "cell_type": "code",
      "source": "df.head()",
      "execution_count": 190,
      "outputs": [
        {
          "output_type": "execute_result",
          "execution_count": 190,
          "data": {
            "text/html": "<div>\n<table border=\"1\" class=\"dataframe\">\n  <thead>\n    <tr style=\"text-align: right;\">\n      <th></th>\n      <th>CHR_ACC</th>\n      <th>CHR</th>\n      <th>POS</th>\n      <th>SNP_ID</th>\n      <th>MAF_1000G</th>\n      <th>MAF_ExAC</th>\n      <th>MAF_TOPMED</th>\n      <th>MAF_ESP</th>\n      <th>GENE</th>\n      <th>GENE_GROUP</th>\n    </tr>\n  </thead>\n  <tbody>\n    <tr>\n      <th>0</th>\n      <td>NC_000008.11</td>\n      <td>8</td>\n      <td>19956018.0</td>\n      <td>268</td>\n      <td>0.005190</td>\n      <td>0.013400</td>\n      <td>0.010910</td>\n      <td>0.013378</td>\n      <td>LPL</td>\n      <td>CGD</td>\n    </tr>\n    <tr>\n      <th>1</th>\n      <td>NC_000008.11</td>\n      <td>8</td>\n      <td>19956018.0</td>\n      <td>268</td>\n      <td>0.005190</td>\n      <td>0.013400</td>\n      <td>0.010910</td>\n      <td>0.013378</td>\n      <td>LPL</td>\n      <td>CLINVAR</td>\n    </tr>\n    <tr>\n      <th>2</th>\n      <td>NC_000008.11</td>\n      <td>8</td>\n      <td>19956018.0</td>\n      <td>268</td>\n      <td>0.005190</td>\n      <td>0.013400</td>\n      <td>0.010910</td>\n      <td>0.013378</td>\n      <td>LPL</td>\n      <td>GTR</td>\n    </tr>\n    <tr>\n      <th>3</th>\n      <td>NC_000011.10</td>\n      <td>11</td>\n      <td>5227002.0</td>\n      <td>334</td>\n      <td>0.027356</td>\n      <td>0.004384</td>\n      <td>0.058239</td>\n      <td>0.013771</td>\n      <td>HBB</td>\n      <td>CGD</td>\n    </tr>\n    <tr>\n      <th>4</th>\n      <td>NC_000011.10</td>\n      <td>11</td>\n      <td>5230000.0</td>\n      <td>334</td>\n      <td>0.027356</td>\n      <td>0.004384</td>\n      <td>0.058239</td>\n      <td>0.013771</td>\n      <td>HBB</td>\n      <td>CLINVAR</td>\n    </tr>\n  </tbody>\n</table>\n</div>",
            "text/plain": "        CHR_ACC CHR         POS  SNP_ID  MAF_1000G  MAF_ExAC  MAF_TOPMED  \\\n0  NC_000008.11   8  19956018.0     268   0.005190  0.013400    0.010910   \n1  NC_000008.11   8  19956018.0     268   0.005190  0.013400    0.010910   \n2  NC_000008.11   8  19956018.0     268   0.005190  0.013400    0.010910   \n3  NC_000011.10  11   5227002.0     334   0.027356  0.004384    0.058239   \n4  NC_000011.10  11   5230000.0     334   0.027356  0.004384    0.058239   \n\n    MAF_ESP GENE GENE_GROUP  \n0  0.013378  LPL        CGD  \n1  0.013378  LPL    CLINVAR  \n2  0.013378  LPL        GTR  \n3  0.013771  HBB        CGD  \n4  0.013771  HBB    CLINVAR  "
          },
          "metadata": {}
        }
      ]
    },
    {
      "metadata": {
        "trusted": true
      },
      "cell_type": "code",
      "source": "df.GENE_GROUP.value_counts()",
      "execution_count": 173,
      "outputs": [
        {
          "output_type": "execute_result",
          "execution_count": 173,
          "data": {
            "text/plain": "CLINVAR          12005\nGTR              11764\nCGD              11045\nINVITAE           3399\nCOSMIC            1442\nPMID:26627737     1214\nACMG              1143\nName: GENE_GROUP, dtype: int64"
          },
          "metadata": {}
        }
      ]
    },
    {
      "metadata": {
        "trusted": true
      },
      "cell_type": "code",
      "source": "#get subset of variants in ACMG genes with TOPMED MAF\nacmg_var =  df.loc[(df['GENE_GROUP'] == 'ACMG') & (df['MAF_TOPMED'] > 0) ]",
      "execution_count": 191,
      "outputs": []
    },
    {
      "metadata": {
        "trusted": true
      },
      "cell_type": "code",
      "source": "#get total  counts\nprint (\"ACMG variant counts = \", acmg_var.shape[0])\nacmg_var.head()",
      "execution_count": 192,
      "outputs": [
        {
          "output_type": "stream",
          "text": "ACMG variant counts =  376\n",
          "name": "stdout"
        },
        {
          "output_type": "execute_result",
          "execution_count": 192,
          "data": {
            "text/html": "<div>\n<table border=\"1\" class=\"dataframe\">\n  <thead>\n    <tr style=\"text-align: right;\">\n      <th></th>\n      <th>CHR_ACC</th>\n      <th>CHR</th>\n      <th>POS</th>\n      <th>SNP_ID</th>\n      <th>MAF_1000G</th>\n      <th>MAF_ExAC</th>\n      <th>MAF_TOPMED</th>\n      <th>MAF_ESP</th>\n      <th>GENE</th>\n      <th>GENE_GROUP</th>\n    </tr>\n  </thead>\n  <tbody>\n    <tr>\n      <th>385</th>\n      <td>NC_000005.10</td>\n      <td>5</td>\n      <td>112839514.0</td>\n      <td>1801155</td>\n      <td>NaN</td>\n      <td>NaN</td>\n      <td>0.001298</td>\n      <td>0.001077</td>\n      <td>APC</td>\n      <td>ACMG</td>\n    </tr>\n    <tr>\n      <th>453</th>\n      <td>NC_000003.12</td>\n      <td>3</td>\n      <td>38600000.0</td>\n      <td>1805124</td>\n      <td>0.230000</td>\n      <td>0.222000</td>\n      <td>0.245421</td>\n      <td>0.246276</td>\n      <td>SCN5A</td>\n      <td>ACMG</td>\n    </tr>\n    <tr>\n      <th>477</th>\n      <td>NC_000002.12</td>\n      <td>2</td>\n      <td>47800000.0</td>\n      <td>2020912</td>\n      <td>0.003994</td>\n      <td>0.005278</td>\n      <td>0.004285</td>\n      <td>0.005459</td>\n      <td>MSH6</td>\n      <td>ACMG</td>\n    </tr>\n    <tr>\n      <th>577</th>\n      <td>NC_000011.10</td>\n      <td>11</td>\n      <td>47300000.0</td>\n      <td>2856655</td>\n      <td>NaN</td>\n      <td>0.000017</td>\n      <td>0.000024</td>\n      <td>NaN</td>\n      <td>MYBPC3</td>\n      <td>ACMG</td>\n    </tr>\n    <tr>\n      <th>612</th>\n      <td>NC_000014.9</td>\n      <td>14</td>\n      <td>23425316.0</td>\n      <td>3218716</td>\n      <td>NaN</td>\n      <td>0.000033</td>\n      <td>0.000032</td>\n      <td>0.000077</td>\n      <td>MYH7</td>\n      <td>ACMG</td>\n    </tr>\n  </tbody>\n</table>\n</div>",
            "text/plain": "          CHR_ACC CHR          POS   SNP_ID  MAF_1000G  MAF_ExAC  MAF_TOPMED  \\\n385  NC_000005.10   5  112839514.0  1801155        NaN       NaN    0.001298   \n453  NC_000003.12   3   38600000.0  1805124   0.230000  0.222000    0.245421   \n477  NC_000002.12   2   47800000.0  2020912   0.003994  0.005278    0.004285   \n577  NC_000011.10  11   47300000.0  2856655        NaN  0.000017    0.000024   \n612   NC_000014.9  14   23425316.0  3218716        NaN  0.000033    0.000032   \n\n      MAF_ESP    GENE GENE_GROUP  \n385  0.001077     APC       ACMG  \n453  0.246276   SCN5A       ACMG  \n477  0.005459    MSH6       ACMG  \n577       NaN  MYBPC3       ACMG  \n612  0.000077    MYH7       ACMG  "
          },
          "metadata": {}
        }
      ]
    },
    {
      "metadata": {
        "trusted": true
      },
      "cell_type": "code",
      "source": "#SNP counts by CHR and GENE\nacmg_var.groupby(['CHR', 'GENE']).size()",
      "execution_count": 193,
      "outputs": [
        {
          "output_type": "execute_result",
          "execution_count": 193,
          "data": {
            "text/plain": "CHR  GENE  \n1    LMNA       7\n     MUTYH     31\n     RYR2       1\n     SDHB       6\n     SDHC       2\n     TNNT2      5\n10   RET        8\n11   KCNQ1     18\n     MEN1       1\n     MYBPC3    26\n     SDHD       3\n12   MYL2       2\n     PKP2      13\n13   ATP7B     19\n     BRCA2     29\n     RB1        2\n14   MYH7      17\n16   MYH11      1\n     TSC2       2\n17   BRCA1     25\n     TP53      12\n18   DSC2       2\n     DSG2       3\n     SMAD4      1\n19   LDLR       9\n     RYR1      22\n     TNNI3      5\n2    APOB       4\n     COL3A1     1\n     MSH2       2\n     MSH6       8\n3    MLH1       2\n     MYL3       2\n     SCN5A     36\n     TGFBR2     2\n     TMEM43     1\n     VHL        3\n5    APC        4\n6    DSP        4\n7    KCNH2      8\n     PMS2      19\nX    GLA        4\n     OTC        4\ndtype: int64"
          },
          "metadata": {}
        }
      ]
    },
    {
      "metadata": {
        "trusted": true
      },
      "cell_type": "code",
      "source": "# Open a remote or local VCF file.\n#url = \"ftp://ftp.ncbi.nih.gov/snp/pre_build152/organisms/human_9606_b151_GRCh38p7/VCF/00-All.vcf.gz\" # dbSNP old build 151\nurl =\"ftp://ftp.ncbi.nih.gov/snp/latest_release/VCF/GCF_000001405.38.bgz\" #dbSNP build 152\ntb = tabix.open(url)",
      "execution_count": 194,
      "outputs": []
    },
    {
      "metadata": {
        "trusted": true
      },
      "cell_type": "code",
      "source": "# query VCF for the top 5 rows [0:5]\nfor i in range(acmg_var.iloc[0:5].shape[0]):\n    # For printing more than one columns\n    ichr = acmg_var.iloc[i,[0]]\n    ipos = acmg_var.iloc[i,[2]]\n    q = ichr['CHR_ACC'] + ':' + str(ipos['POS']) + '-' + str(ipos['POS'])\n    records = tb.querys(q)\n    # Each record is a list of strings.\n    for record in records:\n        print(record[:9])",
      "execution_count": 196,
      "outputs": [
        {
          "output_type": "stream",
          "text": "['NC_000005.10', '112839510', 'rs1064794229', 'GAAATA', 'G', '.', '.', 'RS=1064794229;dbSNPBuildID=150;SSR=0;GENEINFO=APC:324;VC=INDEL;PUB;NSF;CLNVI=.,;CLNORIGIN=.,1;CLNSIG=.,5|0;CLNDISDB=.,MedGen:CN517202|MedGen:CN169374;CLNDN=.,not_provided|not_specified;CLNREVSTAT=.,single|single;CLNACC=.,RCV000485674.2|RCV000501734.2;CLNHGVS=NC_000005.10:g.112839511_112839518AAATAAAA=,NC_000005.10:g.112839514_112839518delTAAAA']\n['NC_000005.10', '112839510', 'rs1463038513', 'GAAAT', 'G', '.', '.', 'RS=1463038513;dbSNPBuildID=151;SSR=0;GENEINFO=APC:324;VC=INDEL;NSF;GNO;FREQ=TOPMED:.,7.964e-06']\n['NC_000005.10', '112839514', 'rs1801155', 'T', 'A', '.', '.', 'RS=1801155;dbSNPBuildID=130;SSR=0;GENEINFO=APC:324;VC=SNV;PUB;NSM;GNO;FREQ=ALSPAC:0.9997,0.0002595|Estonian:0.9998,0.0002232|ExAC:0.9983,0.001693|GnomAD:0.9992,0.0008078|TOPMED:0.9987,0.001298|TWINSUK:0.9987,0.001348;CLNVI=.,OMIM:611731.0029|UniProtKB:P25054#VAR_005049;CLNORIGIN=.,0|1|1073741825;CLNSIG=.,9|9|9/255|0|9/255|12|9|9|0;CLNDISDB=.,.|Genetics_Home_Reference:breast-cancer/Genetic_Testing_Registry_(GTR):GTR000021468/Genetic_Testing_Registry_(GTR):GTR000210160/Genetic_Testing_Registry_(GTR):GTR000320688/Genetic_Testing_Registry_(GTR):GTR000325401/Genetic_Testing_Registry_(GTR):GTR000325409/Genetic_Testing_Registry_(GTR):GTR000326160/Genetic_Testing_Registry_(GTR):GTR000500363/Genetic_Testing_Registry_(GTR):GTR000508956/Genetic_Testing_Registry_(GTR):GTR000509363/Genetic_Testing_Registry_(GTR):GTR000509427/Genetic_Testing_Registry_(GTR):GTR000509474/Genetic_Testing_Registry_(GTR):GTR000509980/Genetic_Testing_Registry_(GTR):GTR000509982/Genetic_Testing_Registry_(GTR):GTR000509983/Genetic_Testing_Registry_(GTR):GTR000509984/Genetic_Testing_Registry_(GTR):GTR000509985/Genetic_Testing_Registry_(GTR):GTR000512240/Genetic_Testing_Registry_(GTR):GTR000512528/Genetic_Testing_Registry_(GTR):GTR000512529/Genetic_Testing_Registry_(GTR):GTR000512644/Genetic_Testing_Registry_(GTR):GTR000512645/Genetic_Testing_Registry_(GTR):GTR000512816/Genetic_Testing_Registry_(GTR):GTR000520069/Genetic_Testing_Registry_(GTR):GTR000520071/Genetic_Testing_Registry_(GTR):GTR000520394/Genetic_Testing_Registry_(GTR):GTR000522159/Genetic_Testing_Registry_(GTR):GTR000522160/Genetic_Testing_Registry_(GTR):GTR000522161/Genetic_Testing_Registry_(GTR):GTR000522162/Genetic_Testing_Registry_(GTR):GTR000525134/Genetic_Testing_Registry_(GTR):GTR000552183/Genetic_Testing_Registry_(GTR):GTR000552245/Genetic_Testing_Registry_(GTR):GTR000558503/Genetic_Testing_Registry_(GTR):GTR000558504/Genetics_Home_Reference:breast-cancer/MedGen:C3469522|GeneReviews:NBK1345/Genetic_Testing_Registry_(GTR):GTR000172265/Genetic_Testing_Registry_(GTR):GTR000321103/Genetic_Testing_Registry_(GTR):GTR000326160/Genetic_Testing_Registry_(GTR):GTR000330056/Genetic_Testing_Registry_(GTR):GTR000500363/Genetic_Testing_Registry_(GTR):GTR000500599/Genetic_Testing_Registry_(GTR):GTR000500894/Genetic_Testing_Registry_(GTR):GTR000501393/Genetic_Testing_Registry_(GTR):GTR000501394/Genetic_Testing_Registry_(GTR):GTR000501794/Genetic_Testing_Registry_(GTR):GTR000508954/Genetic_Testing_Registry_(GTR):GTR000512300/Genetic_Testing_Registry_(GTR):GTR000512645/Genetic_Testing_Registry_(GTR):GTR000515534/Genetic_Testing_Registry_(GTR):GTR000515885/Genetic_Testing_Registry_(GTR):GTR000515899/Genetic_Testing_Registry_(GTR):GTR000520026/Genetic_Testing_Registry_(GTR):GTR000520047/Genetic_Testing_Registry_(GTR):GTR000520069/Genetic_Testing_Registry_(GTR):GTR000520077/Genetic_Testing_Registry_(GTR):GTR000520394/Genetic_Testing_Registry_(GTR):GTR000520865/Genetic_Testing_Registry_(GTR):GTR000520868/Genetic_Testing_Registry_(GTR):GTR000520869/Genetic_Testing_Registry_(GTR):GTR000520870/Genetic_Testing_Registry_(GTR):GTR000520872/Genetic_Testing_Registry_(GTR):GTR000521915/Genetic_Testing_Registry_(GTR):GTR000522559/Genetic_Testing_Registry_(GTR):GTR000527982/Genetic_Testing_Registry_(GTR):GTR000527984/Genetic_Testing_Registry_(GTR):GTR000528912/Genetic_Testing_Registry_(GTR):GTR000529017/Genetic_Testing_Registry_(GTR):GTR000530028/Genetic_Testing_Registry_(GTR):GTR000530118/Genetic_Testing_Registry_(GTR):GTR000530120/Genetic_Testing_Registry_(GTR):GTR000530202/Genetic_Testing_Registry_(GTR):GTR000552245/Genetic_Testing_Registry_(GTR):GTR000552290/Genetic_Testing_Registry_(GTR):GTR000552303/Genetic_Testing_Registry_(GTR):GTR000558907/MedGen:C2713442/OMIM:175100|MedGen:CN517202|MedGen:C0027672|MedGen:CN169374|MedGen:C0007102/Human_Phenotype_Ontology:HP:0003003/Human_Phenotype_Ontology:HP:0006718|MedGen:C1858438|Genetics_Home_Reference:familial-adenomatous-polyposis/Genetic_Testing_Registry_(GTR):GTR000500599/Genetic_Testing_Registry_(GTR):GTR000528529/Genetic_Testing_Registry_(GTR):GTR000528534/Genetic_Testing_Registry_(GTR):GTR000529017/Genetic_Testing_Registry_(GTR):GTR000552183/Genetic_Testing_Registry_(GTR):GTR000552184/MedGen:C0032580/OMIM:PS175100;CLNDN=.,Adenomatous_polyposis_coli\\\\x2c_susceptibility_to|Breast_cancer\\\\x2c_susceptibility_to|Familial_adenomatous_polyposis_1|not_provided|Hereditary_cancer-predisposing_syndrome|not_specified|Colon_cancer|Colorectal_cancer\\\\x2c_susceptibility_to|Familial_multiple_polyposis_syndrome;CLNREVSTAT=.,no_criteria|no_criteria|mult|mult|mult|conf|single|single|single;CLNACC=.,RCV000000864.2|RCV000000865.3|RCV000020088.8|RCV000034388.3|RCV000115087.9|RCV000120049.2|RCV000144683.1|RCV000210085.1|RCV000238802.1;CLNHGVS=NC_000005.10:g.112839514T=,NC_000005.10:g.112839514T>A']\n['NC_000005.10', '112839514', 'rs121913224', 'TAAAAG', 'T', '.', '.', 'RS=121913224;dbSNPBuildID=133;SSR=0;GENEINFO=APC:324;VC=INDEL;PUB;NSF;GNO;FREQ=ExAC:.,8.261e-06;CLNVI=.,OMIM:611731.0023;CLNORIGIN=.,0|1|1073741825|2;CLNSIG=.,5|5|5|5|5|5|5|5|5|5;CLNDISDB=.,GeneReviews:NBK1345/Genetic_Testing_Registry_(GTR):GTR000172265/Genetic_Testing_Registry_(GTR):GTR000530118/Genetic_Testing_Registry_(GTR):GTR000530028/Genetic_Testing_Registry_(GTR):GTR000512300/Genetic_Testing_Registry_(GTR):GTR000522559/Genetic_Testing_Registry_(GTR):GTR000501393/Genetic_Testing_Registry_(GTR):GTR000520077/Genetic_Testing_Registry_(GTR):GTR000321103/Genetic_Testing_Registry_(GTR):GTR000529017/Genetic_Testing_Registry_(GTR):GTR000515534/Genetic_Testing_Registry_(GTR):GTR000508954/Genetic_Testing_Registry_(GTR):GTR000500894/Genetic_Testing_Registry_(GTR):GTR000520865/Genetic_Testing_Registry_(GTR):GTR000520069/Genetic_Testing_Registry_(GTR):GTR000552245/Genetic_Testing_Registry_(GTR):GTR000520872/Genetic_Testing_Registry_(GTR):GTR000520394/Genetic_Testing_Registry_(GTR):GTR000500599/Genetic_Testing_Registry_(GTR):GTR000520047/Genetic_Testing_Registry_(GTR):GTR000527984/Genetic_Testing_Registry_(GTR):GTR000512645/Genetic_Testing_Registry_(GTR):GTR000326160/Genetic_Testing_Registry_(GTR):GTR000552303/Genetic_Testing_Registry_(GTR):GTR000515899/Genetic_Testing_Registry_(GTR):GTR000558907/Genetic_Testing_Registry_(GTR):GTR000501394/Genetic_Testing_Registry_(GTR):GTR000500363/Genetic_Testing_Registry_(GTR):GTR000501794/Genetic_Testing_Registry_(GTR):GTR000528912/Genetic_Testing_Registry_(GTR):GTR000520868/Genetic_Testing_Registry_(GTR):GTR000330056/Genetic_Testing_Registry_(GTR):GTR000521915/Genetic_Testing_Registry_(GTR):GTR000527982/Genetic_Testing_Registry_(GTR):GTR000520026/Genetic_Testing_Registry_(GTR):GTR000530202/Genetic_Testing_Registry_(GTR):GTR000520870/Genetic_Testing_Registry_(GTR):GTR000552290/Genetic_Testing_Registry_(GTR):GTR000520869/Genetic_Testing_Registry_(GTR):GTR000515885/Genetic_Testing_Registry_(GTR):GTR000530120/MedGen:C2713442/OMIM:175100|Genetic_Testing_Registry_(GTR):GTR000530202/Genetic_Testing_Registry_(GTR):GTR000527984/Genetic_Testing_Registry_(GTR):GTR000508954/Genetic_Testing_Registry_(GTR):GTR000515899/Genetic_Testing_Registry_(GTR):GTR000528912/Genetic_Testing_Registry_(GTR):GTR000530120/Genetic_Testing_Registry_(GTR):GTR000515885/Genetic_Testing_Registry_(GTR):GTR000520026/Genetic_Testing_Registry_(GTR):GTR000515534/Genetic_Testing_Registry_(GTR):GTR000527982/MedGen:C0017097|MedGen:C2673229|MedGen:C0027672|MedGen:CN517202|MedGen:CN240755|.|MedGen:C0236048/Orphanet:157798/Orphanet:Orphanet_157798/OMIM:175020/Human_Phenotype_Ontology:HP:0004394/MedGen:C0578477/Human_Phenotype_Ontology:HP:0004783/MedGen:C1868071/Human_Phenotype_Ontology:HP:0005227/Human_Phenotype_Ontology:HP:0005226/MedGen:C0021846/Human_Phenotype_Ontology:HP:0005266/MedGen:C4023010/Human_Phenotype_Ontology:HP:0012183|GeneReviews:NBK1211/MedGen:C0699790/OMIM:114500|MedGen:C0338106/Human_Phenotype_Ontology:HP:0040276;CLNDN=.,Familial_adenomatous_polyposis_1|Gardner_syndrome|Adenomatous_polyposis_coli_with_congenital_cholesteatoma|Hereditary_cancer-predisposing_syndrome|not_provided|Familial_adenomatous_polyposis|Malignant_Colorectal_Neoplasm|Adenomatous_colonic_polyposis/Duodenal_polyposis/Gastric_polyposis/Hyperplastic_colonic_polyposis/Intestinal_polyp|Carcinoma_of_colon|Adenocarcinoma_of_the_colon;CLNREVSTAT=.,mult|no_criteria|no_criteria|mult|mult|mult|no_criteria|single|single|single;CLNACC=.,RCV000000856.8|RCV000000857.2|RCV000000858.2|RCV000128941.5|RCV000202014.2|RCV000503175.2|RCV000589212.1|RCV000626570.1|RCV000677779.1|RCV000677780.1;CLNHGVS=NC_000005.10:g.112839515_112839525AAAAGAAAAGA=,NC_000005.10:g.112839516_112839520AAAGA[1]']\n['NC_000005.10', '112839514', 'rs863224457', 'TAAAA', 'T', '.', '.', 'RS=863224457;dbSNPBuildID=146;SSR=0;GENEINFO=APC:324;VC=DEL;NSF;CLNVI=.,;CLNORIGIN=.,1;CLNSIG=.,5;CLNDISDB=.,GeneReviews:NBK1345/Genetic_Testing_Registry_(GTR):GTR000172265/Genetic_Testing_Registry_(GTR):GTR000321103/Genetic_Testing_Registry_(GTR):GTR000326160/Genetic_Testing_Registry_(GTR):GTR000330056/Genetic_Testing_Registry_(GTR):GTR000500363/Genetic_Testing_Registry_(GTR):GTR000500599/Genetic_Testing_Registry_(GTR):GTR000500894/Genetic_Testing_Registry_(GTR):GTR000501393/Genetic_Testing_Registry_(GTR):GTR000501394/Genetic_Testing_Registry_(GTR):GTR000501794/Genetic_Testing_Registry_(GTR):GTR000508954/Genetic_Testing_Registry_(GTR):GTR000512300/Genetic_Testing_Registry_(GTR):GTR000512645/Genetic_Testing_Registry_(GTR):GTR000515534/Genetic_Testing_Registry_(GTR):GTR000515885/Genetic_Testing_Registry_(GTR):GTR000515899/Genetic_Testing_Registry_(GTR):GTR000520026/Genetic_Testing_Registry_(GTR):GTR000520047/Genetic_Testing_Registry_(GTR):GTR000520069/Genetic_Testing_Registry_(GTR):GTR000520077/Genetic_Testing_Registry_(GTR):GTR000520394/Genetic_Testing_Registry_(GTR):GTR000520865/Genetic_Testing_Registry_(GTR):GTR000520868/Genetic_Testing_Registry_(GTR):GTR000520869/Genetic_Testing_Registry_(GTR):GTR000520870/Genetic_Testing_Registry_(GTR):GTR000520872/Genetic_Testing_Registry_(GTR):GTR000521915/Genetic_Testing_Registry_(GTR):GTR000522559/Genetic_Testing_Registry_(GTR):GTR000527982/Genetic_Testing_Registry_(GTR):GTR000527984/Genetic_Testing_Registry_(GTR):GTR000528912/Genetic_Testing_Registry_(GTR):GTR000529017/Genetic_Testing_Registry_(GTR):GTR000530028/Genetic_Testing_Registry_(GTR):GTR000530118/Genetic_Testing_Registry_(GTR):GTR000530120/Genetic_Testing_Registry_(GTR):GTR000530202/Genetic_Testing_Registry_(GTR):GTR000552245/Genetic_Testing_Registry_(GTR):GTR000552290/Genetic_Testing_Registry_(GTR):GTR000552303/Genetic_Testing_Registry_(GTR):GTR000558907/MedGen:C2713442/OMIM:175100;CLNDN=.,Familial_adenomatous_polyposis_1;CLNREVSTAT=.,single;CLNACC=.,RCV000197818.3;CLNHGVS=NC_000005.10:g.112839515_112839518AAAA=,NC_000005.10:g.112839515_112839518delAAAA']\n",
          "name": "stdout"
        },
        {
          "output_type": "stream",
          "text": "['NC_000002.12', '47800000', 'rs377356882', 'C', 'G', '.', '.', 'RS=377356882;dbSNPBuildID=138;SSR=0;GENEINFO=MSH6:2956;VC=SNV;NSM;GNO;FREQ=ExAC:1,1.65e-05|GnomAD:0.9999,6.463e-05|GnomAD_exomes:1,1.221e-05|GoESP:0.9998,0.0001538|TOPMED:1,1.593e-05;CLNVI=.,;CLNORIGIN=.,1;CLNSIG=.,0|0;CLNDISDB=.,MedGen:C0009405/Orphanet:443090|MedGen:C0027672;CLNDN=.,Hereditary_nonpolyposis_colon_cancer|Hereditary_cancer-predisposing_syndrome;CLNREVSTAT=.,single|mult;CLNACC=.,RCV000470045.3|RCV000491796.2;CLNHGVS=NC_000002.12:g.47800000C=,NC_000002.12:g.47800000C>G']\n['NC_000014.9', '23425316', 'rs3218716', 'C', 'A,G,T', '.', '.', 'RS=3218716;dbSNPBuildID=106;SSR=0;GENEINFO=MYH7:4625;VC=SNV;PUB;NSM;GNO;FREQ=ExAC:1,.,.,3.296e-05|GnomAD_exomes:1,4.061e-06,.,2.03e-05|GoESP:0.9999,.,.,7.689e-05|TOPMED:1,.,.,3.186e-05;CLNVI=.,.,.,UniProtKB:P12883#VAR_004591;CLNORIGIN=.,.,.,0|1|8;CLNSIG=.,.,.,255|5|255|5|5|5|4;CLNDISDB=.,.,.,GeneReviews:NBK1768/Genetic_Testing_Registry_(GTR):GTR000500683/MedGen:C0949658/OMIM:PS192600|MedGen:CN517202|GeneReviews:NBK1768/MedGen:C3495498/OMIM:192600|MedGen:C0007194/Human_Phenotype_Ontology:HP:0001639|GeneReviews:NBK1768/GeneReviews:NBK1259/Genetic_Testing_Registry_(GTR):GTR000276064/GeneReviews:NBK1433/MedGen:C3495498/OMIM:192600/MedGen:C1850709/OMIM:255160/MedGen:C1842160/OMIM:608358/MedGen:C0546264/Orphanet:2020/OMIM:255310/MedGen:C1834481/Orphanet:154/Orphanet:54260/OMIM:613426/MedGen:CN074249/Orphanet:59135/OMIM:160500/MedGen:CN074265/Orphanet:437572/OMIM:181430|MedGen:CN230736|Genetics_Home_Reference:wolff-parkinson-white-syndrome/MedGen:C0043202/OMIM:194200;CLNDN=.,.,.,Primary_familial_hypertrophic_cardiomyopathy|not_provided|Familial_hypertrophic_cardiomyopathy_1|Hypertrophic_cardiomyopathy|Congenital_myopathy_with_fiber_type_disproportion/Dilated_cardiomyopathy_1S/Familial_hypertrophic_cardiomyopathy_1/Myopathy\\\\x2c_distal\\\\x2c_1/Myopathy\\\\x2c_myosin_storage\\\\x2c_autosomal_recessive/Myosin_storage_myopathy/Scapuloperoneal_myopathy\\\\x2c_MYH7-related|Cardiovascular_phenotype|Wolff-Parkinson-White_pattern;CLNREVSTAT=.,.,.,mult|single|mult|single|single|single|no_criteria;CLNACC=.,.,.,RCV000035790.8|RCV000158532.4|RCV000168872.3|RCV000473164.3|RCV000515299.1|RCV000620547.1|RCV000656214.1;CLNHGVS=NC_000014.9:g.23425316C=,NC_000014.9:g.23425316C>A,NC_000014.9:g.23425316C>G,NC_000014.9:g.23425316C>T']\n",
          "name": "stdout"
        }
      ]
    },
    {
      "metadata": {
        "trusted": true
      },
      "cell_type": "code",
      "source": "#plot ACMG variants MAF from 1000G and TopMed\nfig, ax = plt.subplots()\nax.scatter(acmg_var['MAF_1000G'], acmg_var['MAF_TOPMED'])\n\nax.set_xlabel('1000G', fontsize=12)\nax.set_ylabel('TOPMED', fontsize=12)\nax.set_title('MAF concordance', fontsize=15)\n\nplt.show()",
      "execution_count": 179,
      "outputs": [
        {
          "output_type": "display_data",
          "data": {
            "image/png": "[encoded data removed]",
            "text/plain": "<matplotlib.figure.Figure at 0x7fb6d0aaafd0>"
          },
          "metadata": {}
        }
      ]
    },
    {
      "metadata": {
        "trusted": true
      },
      "cell_type": "code",
      "source": "",
      "execution_count": null,
      "outputs": []
    }
  ],
  "metadata": {
    "kernelspec": {
      "name": "python3",
      "display_name": "Python 3",
      "language": "python"
    },
    "language_info": {
      "mimetype": "text/x-python",
      "nbconvert_exporter": "python",
      "name": "python",
      "pygments_lexer": "ipython3",
      "version": "3.5.4",
      "file_extension": ".py",
      "codemirror_mode": {
        "version": 3,
        "name": "ipython"
      }
    }
  },
  "nbformat": 4,
  "nbformat_minor": 1
}
