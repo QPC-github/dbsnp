{
  "cells": [
    {
      "metadata": {
        "trusted": true
      },
      "cell_type": "code",
      "source": "import pandas as pd\nimport plotly \nimport plotly.graph_objs as go\nimport plotly.plotly as py\nimport plotly.figure_factory as ff",
      "execution_count": 1,
      "outputs": []
    },
    {
      "metadata": {
        "trusted": true
      },
      "cell_type": "code",
      "source": "#register here to get api_key https://plot.ly/settings/api#/\nplotly.tools.set_credentials_file(username='myvarinfo', api_key='Og4r4YyrYkP6HJ74k53o')",
      "execution_count": 2,
      "outputs": []
    },
    {
      "metadata": {
        "trusted": true
      },
      "cell_type": "code",
      "source": "df = pd.read_csv(\"https://ftp.ncbi.nih.gov/snp/temp/Demo_Data/ClinVarSNP_Demo3.csv\")",
      "execution_count": 21,
      "outputs": []
    },
    {
      "metadata": {
        "trusted": true
      },
      "cell_type": "code",
      "source": "df.head()",
      "execution_count": 24,
      "outputs": [
        {
          "output_type": "execute_result",
          "execution_count": 24,
          "data": {
            "text/html": "<div>\n<table border=\"1\" class=\"dataframe\">\n  <thead>\n    <tr style=\"text-align: right;\">\n      <th></th>\n      <th>CHR</th>\n      <th>POS</th>\n      <th>SNP_ID</th>\n      <th>MAF_1000G</th>\n      <th>MAF_ExAC</th>\n      <th>MAF_TOPMED</th>\n      <th>MAF_ESP</th>\n      <th>GENE</th>\n      <th>GENE_GROUP</th>\n    </tr>\n  </thead>\n  <tbody>\n    <tr>\n      <th>0</th>\n      <td>1</td>\n      <td>1014358</td>\n      <td>672601312.0</td>\n      <td>NaN</td>\n      <td>0.000008</td>\n      <td>NaN</td>\n      <td>NaN</td>\n      <td>ISG15</td>\n      <td>GTR</td>\n    </tr>\n    <tr>\n      <th>1</th>\n      <td>1</td>\n      <td>1014358</td>\n      <td>672601312.0</td>\n      <td>NaN</td>\n      <td>0.000008</td>\n      <td>NaN</td>\n      <td>NaN</td>\n      <td>ISG15</td>\n      <td>CGD</td>\n    </tr>\n    <tr>\n      <th>2</th>\n      <td>1</td>\n      <td>1014358</td>\n      <td>672601312.0</td>\n      <td>NaN</td>\n      <td>0.000008</td>\n      <td>NaN</td>\n      <td>NaN</td>\n      <td>ISG15</td>\n      <td>CLINVAR</td>\n    </tr>\n    <tr>\n      <th>3</th>\n      <td>1</td>\n      <td>1022224</td>\n      <td>756623659.0</td>\n      <td>NaN</td>\n      <td>0.000008</td>\n      <td>NaN</td>\n      <td>NaN</td>\n      <td>AGRN</td>\n      <td>GTR</td>\n    </tr>\n    <tr>\n      <th>4</th>\n      <td>1</td>\n      <td>1022224</td>\n      <td>756623659.0</td>\n      <td>NaN</td>\n      <td>0.000008</td>\n      <td>NaN</td>\n      <td>NaN</td>\n      <td>AGRN</td>\n      <td>CGD</td>\n    </tr>\n  </tbody>\n</table>\n</div>",
            "text/plain": "  CHR      POS       SNP_ID  MAF_1000G  MAF_ExAC  MAF_TOPMED  MAF_ESP   GENE  \\\n0   1  1014358  672601312.0        NaN  0.000008         NaN      NaN  ISG15   \n1   1  1014358  672601312.0        NaN  0.000008         NaN      NaN  ISG15   \n2   1  1014358  672601312.0        NaN  0.000008         NaN      NaN  ISG15   \n3   1  1022224  756623659.0        NaN  0.000008         NaN      NaN   AGRN   \n4   1  1022224  756623659.0        NaN  0.000008         NaN      NaN   AGRN   \n\n  GENE_GROUP  \n0        GTR  \n1        CGD  \n2    CLINVAR  \n3        GTR  \n4        CGD  "
          },
          "metadata": {}
        }
      ]
    },
    {
      "metadata": {
        "trusted": true
      },
      "cell_type": "code",
      "source": "print(df.GENE_GROUP.unique())",
      "execution_count": 27,
      "outputs": [
        {
          "output_type": "stream",
          "text": "['GTR' 'CGD' 'CLINVAR' 'INVITAE' 'COSMIC' 'PMID:26627737' 'ACMG']\n",
          "name": "stdout"
        }
      ]
    },
    {
      "metadata": {
        "trusted": true
      },
      "cell_type": "code",
      "source": "acmg_var =  df.loc[(df['GENE_GROUP'] == 'ACMG') & (df['MAF_TOPMED'] > 0) ]",
      "execution_count": 42,
      "outputs": []
    },
    {
      "metadata": {
        "trusted": true
      },
      "cell_type": "code",
      "source": "print (\"row_count = \", acmg_var.shape[0])\nacmg_var.head()",
      "execution_count": 46,
      "outputs": [
        {
          "output_type": "stream",
          "text": "row_count =  376\n",
          "name": "stdout"
        },
        {
          "output_type": "execute_result",
          "execution_count": 46,
          "data": {
            "text/html": "<div>\n<table border=\"1\" class=\"dataframe\">\n  <thead>\n    <tr style=\"text-align: right;\">\n      <th></th>\n      <th>CHR</th>\n      <th>POS</th>\n      <th>SNP_ID</th>\n      <th>MAF_1000G</th>\n      <th>MAF_ExAC</th>\n      <th>MAF_TOPMED</th>\n      <th>MAF_ESP</th>\n      <th>GENE</th>\n      <th>GENE_GROUP</th>\n    </tr>\n  </thead>\n  <tbody>\n    <tr>\n      <th>352</th>\n      <td>1</td>\n      <td>17022647</td>\n      <td>74315368.0</td>\n      <td>NaN</td>\n      <td>0.000025</td>\n      <td>0.000024</td>\n      <td>NaN</td>\n      <td>SDHB</td>\n      <td>ACMG</td>\n    </tr>\n    <tr>\n      <th>373</th>\n      <td>1</td>\n      <td>17024014</td>\n      <td>397516836.0</td>\n      <td>NaN</td>\n      <td>NaN</td>\n      <td>0.000008</td>\n      <td>NaN</td>\n      <td>SDHB</td>\n      <td>ACMG</td>\n    </tr>\n    <tr>\n      <th>378</th>\n      <td>1</td>\n      <td>17027801</td>\n      <td>33927012.0</td>\n      <td>0.009385</td>\n      <td>0.012545</td>\n      <td>0.007900</td>\n      <td>0.009534</td>\n      <td>SDHB</td>\n      <td>ACMG</td>\n    </tr>\n    <tr>\n      <th>399</th>\n      <td>1</td>\n      <td>17044823</td>\n      <td>772551056.0</td>\n      <td>NaN</td>\n      <td>0.000008</td>\n      <td>0.000024</td>\n      <td>NaN</td>\n      <td>SDHB</td>\n      <td>ACMG</td>\n    </tr>\n    <tr>\n      <th>431</th>\n      <td>1</td>\n      <td>17053946</td>\n      <td>587782703.0</td>\n      <td>NaN</td>\n      <td>NaN</td>\n      <td>0.000008</td>\n      <td>NaN</td>\n      <td>SDHB</td>\n      <td>ACMG</td>\n    </tr>\n  </tbody>\n</table>\n</div>",
            "text/plain": "    CHR       POS       SNP_ID  MAF_1000G  MAF_ExAC  MAF_TOPMED   MAF_ESP  \\\n352   1  17022647   74315368.0        NaN  0.000025    0.000024       NaN   \n373   1  17024014  397516836.0        NaN       NaN    0.000008       NaN   \n378   1  17027801   33927012.0   0.009385  0.012545    0.007900  0.009534   \n399   1  17044823  772551056.0        NaN  0.000008    0.000024       NaN   \n431   1  17053946  587782703.0        NaN       NaN    0.000008       NaN   \n\n     GENE GENE_GROUP  \n352  SDHB       ACMG  \n373  SDHB       ACMG  \n378  SDHB       ACMG  \n399  SDHB       ACMG  \n431  SDHB       ACMG  "
          },
          "metadata": {}
        }
      ]
    },
    {
      "metadata": {
        "trusted": true
      },
      "cell_type": "code",
      "source": "acmg_var.groupby(['CHR', 'GENE']).size()",
      "execution_count": 47,
      "outputs": [
        {
          "output_type": "execute_result",
          "execution_count": 47,
          "data": {
            "text/plain": "CHR  GENE  \n1    LMNA       7\n     MUTYH     31\n     RYR2       1\n     SDHB       6\n     SDHC       2\n     TNNT2      5\n10   RET        8\n11   KCNQ1     18\n     MEN1       1\n     MYBPC3    26\n     SDHD       3\n12   MYL2       2\n     PKP2      13\n13   ATP7B     19\n     BRCA2     29\n     RB1        2\n14   MYH7      17\n16   MYH11      1\n     TSC2       2\n17   BRCA1     25\n     TP53      12\n18   DSC2       2\n     DSG2       3\n     SMAD4      1\n19   LDLR       9\n     RYR1      22\n     TNNI3      5\n2    APOB       4\n     COL3A1     1\n     MSH2       2\n     MSH6       8\n3    MLH1       2\n     MYL3       2\n     SCN5A     36\n     TGFBR2     2\n     TMEM43     1\n     VHL        3\n5    APC        4\n6    DSP        4\n7    KCNH2      8\n     PMS2      19\nX    GLA        4\n     OTC        4\ndtype: int64"
          },
          "metadata": {}
        }
      ]
    },
    {
      "metadata": {
        "trusted": true
      },
      "cell_type": "code",
      "source": "trace = go.Scatter(\n    x = acmg_var['MAF_1000G'],\n    y = acmg_var['MAF_TOPMED'],\n    mode = 'markers'\n)\ndata = [trace]",
      "execution_count": 33,
      "outputs": []
    },
    {
      "metadata": {
        "trusted": true
      },
      "cell_type": "code",
      "source": "layout = dict(title = 'MAF 1000G vs TOPMED',\n              autosize=False,\n              width=600,\n              height=600,\n              xaxis = dict(title= '1000G', range=[0, 0.01]),\n              yaxis = dict(title= 'TOPMED', range=[0, 0.01]),\n             )",
      "execution_count": 52,
      "outputs": []
    },
    {
      "metadata": {
        "trusted": true
      },
      "cell_type": "code",
      "source": "fig = dict(data=data, layout=layout)\n# Scatter of 1000G vs TOPMED MAF\npy.iplot(fig, filename='MAF_1000G_TOPMED')",
      "execution_count": 53,
      "outputs": [
        {
          "output_type": "execute_result",
          "execution_count": 53,
          "data": {
            "text/html": "<iframe id=\"igraph\" scrolling=\"no\" style=\"border:none;\" seamless=\"seamless\" src=\"https://plot.ly/~myvarinfo/8.embed\" height=\"600px\" width=\"600px\"></iframe>",
            "text/plain": "<plotly.tools.PlotlyDisplay object>"
          },
          "metadata": {}
        }
      ]
    },
    {
      "metadata": {
        "trusted": true
      },
      "cell_type": "code",
      "source": "",
      "execution_count": null,
      "outputs": []
    }
  ],
  "metadata": {
    "kernelspec": {
      "name": "python3",
      "display_name": "Python 3",
      "language": "python"
    },
    "language_info": {
      "mimetype": "text/x-python",
      "nbconvert_exporter": "python",
      "name": "python",
      "pygments_lexer": "ipython3",
      "version": "3.5.4",
      "file_extension": ".py",
      "codemirror_mode": {
        "version": 3,
        "name": "ipython"
      }
    }
  },
  "nbformat": 4,
  "nbformat_minor": 1
}