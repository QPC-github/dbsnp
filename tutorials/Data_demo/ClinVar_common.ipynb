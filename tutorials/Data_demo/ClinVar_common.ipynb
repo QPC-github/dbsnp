{
  "cells": [
    {
      "metadata": {
        "trusted": true
      },
      "cell_type": "code",
      "source": "import pandas as pd\nimport numpy as np\nimport scipy as sp\nimport plotly \nimport plotly.graph_objs as go\nimport plotly.plotly as py\nimport plotly.figure_factory as ff",
      "execution_count": 1,
      "outputs": []
    },
    {
      "metadata": {
        "trusted": true
      },
      "cell_type": "code",
      "source": "#register here to get api_key https://plot.ly/settings/api#/\nplotly.tools.set_credentials_file(username='myvarinfo', api_key='Og4r4YyrYkP6HJ74k53o')",
      "execution_count": 32,
      "outputs": []
    },
    {
      "metadata": {
        "trusted": true
      },
      "cell_type": "code",
      "source": "df = pd.read_csv(\"https://ftp.ncbi.nih.gov/snp/temp/Demo_Data/ClinVarSNP_Demo1.csv\")",
      "execution_count": 12,
      "outputs": []
    },
    {
      "metadata": {
        "trusted": true,
        "scrolled": true
      },
      "cell_type": "code",
      "source": "table = ff.create_table(df)\n\npy.iplot(table, filename='jupyter-table1')",
      "execution_count": 13,
      "outputs": [
        {
          "output_type": "stream",
          "text": "High five! You successfully sent some data to your account on plotly. View your plot in your browser at https://plot.ly/~myvarinfo/0 or inside your plot.ly account where it is named 'jupyter-table1'\n",
          "name": "stdout"
        },
        {
          "output_type": "execute_result",
          "execution_count": 13,
          "data": {
            "text/html": "<iframe id=\"igraph\" scrolling=\"no\" style=\"border:none;\" seamless=\"seamless\" src=\"https://plot.ly/~myvarinfo/0.embed\" height=\"6800px\" width=\"100%\"></iframe>",
            "text/plain": "<plotly.tools.PlotlyDisplay object>"
          },
          "metadata": {}
        }
      ]
    },
    {
      "metadata": {
        "trusted": true
      },
      "cell_type": "code",
      "source": "trace = go.Scatter(\n    x = df['MAF_1000G'],\n    y = df['MAF_TOPMED'],\n    mode = 'markers'\n)\ndata = [trace]",
      "execution_count": 35,
      "outputs": []
    },
    {
      "metadata": {
        "trusted": true
      },
      "cell_type": "code",
      "source": "layout = dict(title = 'MAF 1000G vs TOPMED',\n              xaxis = dict(title= '1000G'),\n              yaxis = dict(title= 'TOPMED'),\n             )",
      "execution_count": 37,
      "outputs": []
    },
    {
      "metadata": {
        "trusted": true
      },
      "cell_type": "code",
      "source": "fig = dict(data=data, layout=layout)\n# Scatter of 1000G vs TOPMED MAF\npy.iplot(fig, filename='MAF_1000G_TOPMED')",
      "execution_count": 38,
      "outputs": [
        {
          "output_type": "execute_result",
          "execution_count": 38,
          "data": {
            "text/html": "<iframe id=\"igraph\" scrolling=\"no\" style=\"border:none;\" seamless=\"seamless\" src=\"https://plot.ly/~myvarinfo/8.embed\" height=\"525px\" width=\"100%\"></iframe>",
            "text/plain": "<plotly.tools.PlotlyDisplay object>"
          },
          "metadata": {}
        }
      ]
    },
    {
      "metadata": {
        "trusted": true
      },
      "cell_type": "code",
      "source": "",
      "execution_count": null,
      "outputs": []
    }
  ],
  "metadata": {
    "kernelspec": {
      "name": "python3",
      "display_name": "Python 3",
      "language": "python"
    },
    "language_info": {
      "mimetype": "text/x-python",
      "nbconvert_exporter": "python",
      "name": "python",
      "pygments_lexer": "ipython3",
      "version": "3.5.4",
      "file_extension": ".py",
      "codemirror_mode": {
        "version": 3,
        "name": "ipython"
      }
    }
  },
  "nbformat": 4,
  "nbformat_minor": 1
}