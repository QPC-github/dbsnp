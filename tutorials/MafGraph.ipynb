{
  "cells": [
    {
      "metadata": {},
      "cell_type": "markdown",
      "source": "# Retrieving and Graphing SNP Minor Allele Frequencies\n\n1. Using Entrez Programming Utilities (E-utilities) to\n\n   1. Search for genes of interest\n   2. Search for a filtered set of SNPs on specific genes\n   3. Retrieve MAF data for specific SNPs\n\n2. Using `matplotlib` Python module to graph MAF from available studies\n\n---\n\n#### Prepare environment: import useful modules, define constants:"
    },
    {
      "metadata": {
        "trusted": true
      },
      "cell_type": "code",
      "source": "!pip install matplotlib\nimport requests\nimport xml.etree.ElementTree as xtree\nimport ipywidgets as wgt\nfrom urllib.parse import quote\nimport re\n\n# When set to True, produce additional diagnostic output\nverbose = False\n\n# Base url for E-utilities\neutils_url = 'https://eutils.ncbi.nlm.nih.gov/entrez/eutils'",
      "execution_count": 40,
      "outputs": [
        {
          "output_type": "stream",
          "text": "Requirement already satisfied: matplotlib in /home/nbuser/anaconda3_420/lib/python3.5/site-packages (2.1.1)\nRequirement already satisfied: numpy>=1.7.1 in /home/nbuser/anaconda3_420/lib/python3.5/site-packages (from matplotlib) (1.17.3)\nRequirement already satisfied: six>=1.10 in /home/nbuser/anaconda3_420/lib/python3.5/site-packages (from matplotlib) (1.11.0)\nRequirement already satisfied: python-dateutil>=2.0 in /home/nbuser/anaconda3_420/lib/python3.5/site-packages (from matplotlib) (2.8.1)\nRequirement already satisfied: pytz in /home/nbuser/anaconda3_420/lib/python3.5/site-packages (from matplotlib) (2016.6.1)\nRequirement already satisfied: cycler>=0.10 in /home/nbuser/anaconda3_420/lib/python3.5/site-packages (from matplotlib) (0.10.0)\nRequirement already satisfied: pyparsing!=2.0.4,!=2.1.2,!=2.1.6,>=2.0.1 in /home/nbuser/anaconda3_420/lib/python3.5/site-packages (from matplotlib) (2.1.4)\n",
          "name": "stdout"
        }
      ]
    },
    {
      "metadata": {},
      "cell_type": "markdown",
      "source": "#### Create a text area for entering gene search terms; use \"acmg\" as an example:"
    },
    {
      "metadata": {
        "trusted": true
      },
      "cell_type": "code",
      "source": "search_term_input1 = wgt.Textarea(\n    value='acmg',\n    placeholder='Gene search term',\n    description='Enter a gene search term:',\n    style={'description_width': 'initial'},\n    disabled=False\n)\n\ndisplay( search_term_input1 )",
      "execution_count": 41,
      "outputs": [
        {
          "output_type": "display_data",
          "data": {
            "application/vnd.jupyter.widget-view+json": {
              "model_id": "dd9851a8cc6f4fd7952a1a76f851c1f1",
              "version_minor": 0,
              "version_major": 2
            },
            "text/plain": "Textarea(value='acmg', description='Enter a gene search term:', placeholder='Gene search term', style=Descript…"
          },
          "metadata": {}
        }
      ]
    },
    {
      "metadata": {},
      "cell_type": "markdown",
      "source": "#### Get the gene search term, use it to search the NCBI Gene database with eSearch:"
    },
    {
      "metadata": {
        "scrolled": true,
        "trusted": true
      },
      "cell_type": "code",
      "source": "term1 = quote( search_term_input1.value )\nsrch1 = requests.get( '{}/esearch.fcgi?db=gene&term={}&usehistory=y'.format( eutils_url, term1 ) )\n\n# Optional\nif verbose:\n    print( srch1.text )",
      "execution_count": 42,
      "outputs": []
    },
    {
      "metadata": {},
      "cell_type": "markdown",
      "source": "#### Parse the eSearch response to get the number of genes found and the location of search results:"
    },
    {
      "metadata": {
        "trusted": true
      },
      "cell_type": "code",
      "source": "xr1 = xtree.fromstring( srch1.text )\nweb_env1 = xr1.find( './WebEnv' ).text\nqry_key1 = xr1.find( './QueryKey' ).text\ncount1 = xr1.find( './Count' ).text\nprint( 'Number of genes found: {}'.format( count1 ) )\n\n# Optional\nif verbose:\n    print( 'WebEnv:   {}'.format( web_env1 ) )\n    print( 'QueryKey: {}'.format( qry_key1 ) )\n",
      "execution_count": 43,
      "outputs": [
        {
          "output_type": "stream",
          "text": "Number of genes found: 60\n",
          "name": "stdout"
        }
      ]
    },
    {
      "metadata": {},
      "cell_type": "markdown",
      "source": "#### Using eSummary get docsums for the genes in the result set, parse the docsums for gene names, descriptions, and UIDs:"
    },
    {
      "metadata": {
        "trusted": true
      },
      "cell_type": "code",
      "source": "# Get the first 500 gene docsums\nsumr1 = requests.get( '{}/esummary.fcgi?db=gene&query_key={}&WebEnv={}&retmax=500'.format( eutils_url, qry_key1, web_env1 ) )\nxds1 = xtree.fromstring( sumr1.text ).findall( './/DocumentSummary' )\n\n# Optional\nif verbose:\n    print( 'Gene DocSums fetched: {}'.format( len( xds1 ) ) )\n\n# Prepare a list of tuples with gene names+descriptions and UIDs for next step\ngenes = list()\nfor ds in xds1:\n    name_descr = '{} : {}'.format( ds.find( 'Name' ).text, ds.find( 'Description' ).text )\n    uid = ds.get( 'uid' )\n    genes.append( ( name_descr, uid ) )",
      "execution_count": 44,
      "outputs": []
    },
    {
      "metadata": {},
      "cell_type": "markdown",
      "source": "#### Create a drop-down selector with names and descriptions of the retrieved genes:"
    },
    {
      "metadata": {
        "trusted": true
      },
      "cell_type": "code",
      "source": "gene_sel = wgt.Dropdown(\n    options=genes,\n    description='Select a gene:',\n    style={'description_width': 'initial'},\n    layout=wgt.Layout( width='50%' ),\n    disabled=False\n)\n\ndisplay( gene_sel )",
      "execution_count": 45,
      "outputs": [
        {
          "output_type": "display_data",
          "data": {
            "application/vnd.jupyter.widget-view+json": {
              "model_id": "342274576e854427bddb09054c30425b",
              "version_minor": 0,
              "version_major": 2
            },
            "text/plain": "Dropdown(description='Select a gene:', layout=Layout(width='50%'), options=(('TP53 : tumor protein p53', '7157…"
          },
          "metadata": {}
        }
      ]
    },
    {
      "metadata": {},
      "cell_type": "markdown",
      "source": "#### Create a text area for entering SNP search terms, using the selected Gene ID from above as one of the filters:\n\nAs an example, the SNP search string is preset to `((\"by frequency\"[Validation Status] AND \"snp clinvar\"[Filter]) AND <UID>[LocusLink ID]) AND 1000genomes[Submitter Handle]`, where `<UID>` is the Gene ID of the selected gene. The preset search terms specify a selection of SNP validated by frequency data, having been reported by the 1000Genomes project, having some defined clinical significance, and linked to the selected gene."
    },
    {
      "metadata": {
        "trusted": true
      },
      "cell_type": "code",
      "source": "# Optional\nif verbose:\n    print( 'Selected Gene ID: {}'.format( gene_sel.value ) )\n\nsearch_term_input2 = wgt.Textarea(\n    value='((\"by frequency\"[Validation Status] AND \"snp clinvar\"[Filter]) AND {}[LocusLink ID]) AND 1000genomes[Submitter Handle]'.format( gene_sel.value ),\n    placeholder='SNP search term',\n    description='Enter SNP search terms:',\n    style={'description_width': 'initial'},\n    layout=wgt.Layout( width='60%' ),\n    disabled=False\n)\n\ndisplay( search_term_input2 )",
      "execution_count": 53,
      "outputs": [
        {
          "output_type": "display_data",
          "data": {
            "application/vnd.jupyter.widget-view+json": {
              "model_id": "0d5d2721395a461f870732c26e733827",
              "version_minor": 0,
              "version_major": 2
            },
            "text/plain": "Textarea(value='((\"by frequency\"[Validation Status] AND \"snp clinvar\"[Filter]) AND 675[LocusLink ID]) AND 1000…"
          },
          "metadata": {}
        }
      ]
    },
    {
      "metadata": {},
      "cell_type": "markdown",
      "source": "#### Get the SNP search terms, use them to search the NCBI dbSNP database with eSearch:"
    },
    {
      "metadata": {
        "trusted": true
      },
      "cell_type": "code",
      "source": "term2 = quote( search_term_input2.value )\nsrch2 = requests.get( '{}/esearch.fcgi?db=snp&term={}&usehistory=y'.format( eutils_url, term2 ) )\n\n# Optional\nif verbose:\n    print( srch2.text )",
      "execution_count": 54,
      "outputs": []
    },
    {
      "metadata": {},
      "cell_type": "markdown",
      "source": "#### Parse the eSearch response to get the number of SNPs found and the location of search results:"
    },
    {
      "metadata": {
        "trusted": true
      },
      "cell_type": "code",
      "source": "xr2 = xtree.fromstring( srch2.text )\nweb_env2 = xr2.find( './WebEnv' ).text\nqry_key2 = xr2.find( './QueryKey' ).text\ncount2 = xr2.find( './Count' ).text\nprint( 'Number of SNPs found: {}'.format( count2 ) )\n\n# Optional\nif verbose:\n    print( 'WebEnv:   {}'.format( web_env2 ) )\n    print( 'QueryKey: {}'.format( qry_key2 ) )",
      "execution_count": 55,
      "outputs": [
        {
          "output_type": "stream",
          "text": "Number of SNPs found: 832\n",
          "name": "stdout"
        }
      ]
    },
    {
      "metadata": {},
      "cell_type": "markdown",
      "source": "#### Using eSummary get docsums for the SNPs in the result set, parse the docsums for RSIDs:"
    },
    {
      "metadata": {
        "trusted": true
      },
      "cell_type": "code",
      "source": "# Get the first 500 SNP docsums\nsumr2 = requests.get( '{}/esummary.fcgi?db=snp&query_key={}&WebEnv={}&retmax=500'.format( eutils_url, qry_key2, web_env2 ) )\nxds2 = xtree.fromstring( sumr2.text ).findall( './/DocumentSummary' )\n\n# Optional\nif verbose:\n    print( 'SNP DocSums fetched: {}'.format( len( xds2 ) ) )\n\nsnps = list()\nsnp_dict = dict()\nfor ds in xds2:\n    rsid = ds.get( 'uid' )\n    snps.append( ( 'rs'+rsid, rsid ) )\n    snp_dict[rsid] = ds",
      "execution_count": 56,
      "outputs": []
    },
    {
      "metadata": {},
      "cell_type": "markdown",
      "source": "#### Create a drop-down RSID selector: "
    },
    {
      "metadata": {
        "trusted": true
      },
      "cell_type": "code",
      "source": "snp_sel = wgt.Dropdown(\n    options=snps,\n    description='Select a SNP:',\n    style={'description_width': 'initial'},\n    disabled=False\n)\n\ndisplay( snp_sel )",
      "execution_count": 57,
      "outputs": [
        {
          "output_type": "display_data",
          "data": {
            "application/vnd.jupyter.widget-view+json": {
              "model_id": "3b08688a79664a48aefd46b5eeaf8cee",
              "version_minor": 0,
              "version_major": 2
            },
            "text/plain": "Dropdown(description='Select a SNP:', options=(('rs796964470', '796964470'), ('rs577406621', '577406621'), ('r…"
          },
          "metadata": {}
        }
      ]
    },
    {
      "metadata": {},
      "cell_type": "markdown",
      "source": "#### Parse the selected SNP's docsum to get its global MAF data:"
    },
    {
      "metadata": {
        "trusted": true
      },
      "cell_type": "code",
      "source": "xrs = snp_dict[snp_sel.value]\nmafs = xrs.findall( './GLOBAL_MAFS/MAF' )\nrsid = xrs.get( 'uid' )\n\n# Optional\nif verbose:\n    print( 'Selected RSID: {}'.format( rsid ) )\n    print( 'Number of freq studies: {}'.format( len( mafs ) ) )\n\nstudies = list()\nfreqs = list()\nfor xmaf in mafs:\n    study = xmaf.find( 'STUDY' ).text\n    freq = xmaf.find( 'FREQ' ).text\n    allele, maf, ac = re.split( '=|/', freq )\n    studies.append( study )\n    freqs.append( float( maf ) )",
      "execution_count": 58,
      "outputs": []
    },
    {
      "metadata": {},
      "cell_type": "markdown",
      "source": "#### Use `matplotlib` module to plot the global MAF data for the selected SNP:"
    },
    {
      "metadata": {
        "trusted": true
      },
      "cell_type": "code",
      "source": "%matplotlib inline\nimport matplotlib.pyplot as plt\n\nypos = list( range( len( studies ) ) )\nplt.barh( ypos, freqs )\nplt.xlabel( 'Frequency', fontsize=14 )\nplt.ylabel( 'Study', fontsize=12 )\nplt.yticks( ypos, studies, fontsize=14 )\nplt.title( 'rs{}: Allele {} MAF'.format( rsid, allele ) )\nplt.show()",
      "execution_count": 59,
      "outputs": [
        {
          "output_type": "display_data",
          "data": {
            "image/png": "[encoded data removed]",
            "text/plain": "<matplotlib.figure.Figure at 0x7fa79cf94c50>"
          },
          "metadata": {}
        }
      ]
    }
  ],
  "metadata": {
    "celltoolbar": "Raw Cell Format",
    "kernelspec": {
      "name": "python3",
      "display_name": "Python 3",
      "language": "python"
    },
    "language_info": {
      "mimetype": "text/x-python",
      "nbconvert_exporter": "python",
      "name": "python",
      "pygments_lexer": "ipython3",
      "version": "3.5.4",
      "file_extension": ".py",
      "codemirror_mode": {
        "version": 3,
        "name": "ipython"
      }
    }
  },
  "nbformat": 4,
  "nbformat_minor": 2
}