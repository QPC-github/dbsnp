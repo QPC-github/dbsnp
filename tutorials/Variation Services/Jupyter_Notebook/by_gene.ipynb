{
  "cells": [
    {
      "cell_type": "markdown",
      "metadata": {},
      "source": [
        "# Retrieving Frequency Data by Gene ID"
      ]
    },
    {
      "cell_type": "markdown",
      "metadata": {},
      "source": [
        "This tutorial shows how to retrieve frequency data by gene id using the ALFA (ALlele Frequency Aggregator) frequency API:\n",
        "* [`/interval/{seq_id}:{position}:{length}/overlapping_frequency_records`](https://api.ncbi.nlm.nih.gov/variation/v0/).\n",
        "\n",
        "This API takes a sequence interval (i.e., sequence ID, interval start position and length), finds all variants overlapping with that interval, and returns their frequency data.\n",
        "\n",
        "So, in order to get frequency data for a gene, we need to break down the process into two steps:\n",
        "\n",
        "1. Determine the chromosome range of this gene.\n",
        "2. Call the ALFA frequency API using that range to retrieve fruequency data.\n",
        "\n",
        "For this tutorial we are going to use the [`TP53 (human tumor protein p57`](https://www.ncbi.nlm.nih.gov/gene/7157) gene as an example. Its gene ID is 7157 (which can be found using the [NCBI Gene website](https://www.ncbi.nlm.nih.gov/gene/).\n",
        "\n",
        "Before writing any code, we need to install some standard python modules used in this tutorial."
      ]
    },
    {
      "cell_type": "code",
      "execution_count": null,
      "metadata": {},
      "outputs": [],
      "source": [
        "%pip install -q requests\n",
        "%pip install -q ratelimit"
      ]
    },
    {
      "cell_type": "markdown",
      "metadata": {},
      "source": [
        "First, we use NCBI's eUtils' `esummary` service to get gene location, as shown in the function `get_gene_loc` below:"
      ]
    },
    {
      "cell_type": "code",
      "execution_count": null,
      "metadata": {},
      "outputs": [],
      "source": [
        "import requests\n",
        "from ratelimit import limits\n",
        "import time\n",
        "from typing import List, Any\n",
        "\n",
        "@limits(calls=1, period=1)  # Only one call per second\n",
        "def get_gene_loc(gene_id: str) -> List[Any]:\n",
        "    '''\n",
        "    Return chromosome id, start and stop positions for gene_id\n",
        "    '''\n",
        "    esum_url=(f'https://eutils.ncbi.nlm.nih.gov/entrez/eutils/'\n",
        "              f'esummary.fcgi?db=gene&id={gene_id}&format=json')\n",
        "    print (f'esummary url: {esum_url}')\n",
        "    res = requests.get(esum_url)\n",
        "\n",
        "    if res.status_code != 200:\n",
        "        raise(\"Failed to get gene information\")\n",
        "\n",
        "    data = res.json()\n",
        "\n",
        "    # First, verify that result contains location data \n",
        "    if ('result' not in data or gene_id not in data['result'] or\n",
        "        'genomicinfo' not in data['result'][gene_id]):\n",
        "        raise(\"Genomic information is not avaible for this gene\")\n",
        "\n",
        "    # Extract and return location data\n",
        "    loc = data['result'][gene_id]['genomicinfo'][0]\n",
        "    chraccver = loc['chraccver']\n",
        "    chrstart = int(loc['chrstart'])\n",
        "    chrstop = int(loc['chrstop'])\n",
        "    # If the gene is on the opposite strand of the reference\n",
        "    # sequence (e.g. TP53), chrstart is larger than chrstop. \n",
        "    # We need to swap them to make sure chrstart < chrstop.\n",
        "    if chrstart > chrstop:\n",
        "        chrstart, chrstop = chrstop, chrstart\n",
        "    \n",
        "    return (chraccver, chrstart, chrstop)"
      ]
    },
    {
      "cell_type": "markdown",
      "metadata": {},
      "source": [
        "Then, we call `get_gene_loc` to get its chromosome location"
      ]
    },
    {
      "cell_type": "code",
      "execution_count": null,
      "metadata": {},
      "outputs": [],
      "source": [
        "# TP53\n",
        "gene_id = '7157'\n",
        "\n",
        "chraccver, chrstart, chrstop = get_gene_loc(gene_id)\n",
        "\n",
        "print (f'gene id: {gene_id}, chr: {chraccver}, '\n",
        "       f'start: {chrstart}, stop: {chrstop}.')"
      ]
    },
    {
      "cell_type": "markdown",
      "metadata": {},
      "source": [
        "Now we are ready to call the ALFA frequency service: \n",
        "[`/interval/{seq_id}:{position}:{length}/overlapping_frequency_records`](https://api.ncbi.nlm.nih.gov/variation/v0/)\n",
        "\n",
        "Due to resource limitations, this API service only returns the first 250 variants. If there are more than that, the service includes a warning in the reply and uses the `http` status code `206`. Thus, for genes with a large number of variants, we have to call the API service multiple times until we get all the results. Now a question arises: after the first API call, what interval should we use for the subsequent calls? The answer is that we just need to reset the start position of the range, while keeping the same stop position. This is because the API service returns the first 250 variants *by position*, and the new start position is right after the largest stop position of those 250 returned variants. The function `get_next_interval_start` below computes the new start position for the next interval:"
      ]
    },
    {
      "cell_type": "code",
      "execution_count": null,
      "metadata": {},
      "outputs": [],
      "source": [
        "def get_next_interval_start(result: dict) -> int:\n",
        "    '''\n",
        "    Return the start position of the next search interval\n",
        "    '''\n",
        "    # Collect stop positions of all 250 variations from the response.\n",
        "    stops = []\n",
        "    for k in result.keys():\n",
        "        length, start = k.split('@')\n",
        "        stops.append(int(length) + int(start))\n",
        "    # The next search interval starts just after the last variant's stop position.\n",
        "    return max(stops) + 1"
      ]
    },
    {
      "cell_type": "markdown",
      "metadata": {},
      "source": [
        "Now we have done all the preparation and can go ahead to call the API service. A broad description of the process is as follows:\n",
        "\n",
        "1. Call the service with the chromosome location of the gene.\n",
        "2. If the response's status code is `200` (meaning, there are 250 or fewer variants found, and we have all of them in the response), then we are done.\n",
        "3. If the response's status code is `206` (meaning, there are too many results and only the first 250 variants are returned):\n",
        "    * first, we save those 250 variants,\n",
        "    * then, we call the API again using the next interval\n",
        "4. Repeat this process until the response's status code is `200`.\n",
        "\n",
        "The above steps are implemented in the function `get_freq_by_interval` below (which does error checking):"
      ]
    },
    {
      "cell_type": "code",
      "execution_count": null,
      "metadata": {},
      "outputs": [],
      "source": [
        "@limits(calls=1, period=1)  # Only one call per second\n",
        "def get_freq_by_interval(seq_id: str, start: int, stop: int) -> None:\n",
        "    '''\n",
        "    Recursively retrieve frequency data from the overlapping_frequency_records\n",
        "    API service for a given sequence interval.\n",
        "    '''\n",
        "    \n",
        "    api_url = (f'https://api.ncbi.nlm.nih.gov/variation/v0/interval/'\n",
        "               f'{seq_id}:{start}:{stop - start + 1}'\n",
        "               f'/overlapping_frequency_records')\n",
        "    print (api_url)\n",
        "    res = requests.get(api_url)\n",
        "\n",
        "    # A global variable that allows for accumulating results from \n",
        "    # recursive calls. It must be reset before each external call\n",
        "    # of get_freq_by_interval\n",
        "    global coll\n",
        "    \n",
        "    # Check status_code to decide what to do next\n",
        "    if res.status_code == 200:\n",
        "        # We got all we asked for. Save the result and return.\n",
        "        coll.update(res.json()['results'])\n",
        "        return\n",
        "    elif res.status_code == 206:\n",
        "        # There are more data than the service can return.\n",
        "        # We should save the result, and call the service again with\n",
        "        # the next interval.\n",
        "        coll.update(res.json()['results'])\n",
        "        print (f'Accumulated result size: {len(coll)}')\n",
        "        \n",
        "        # Delay the call for 1 second to not exceed the rate limit.\n",
        "        time.sleep(1)\n",
        "        get_freq_by_interval(seq_id, get_next_interval_start(coll), stop)\n",
        "    elif res.status_code >= 400:\n",
        "        raise (f'API request returned with error code {res.status_code}\\n'\n",
        "               f'Request: {api_url}\\n'\n",
        "               f'Response: {res.json()}')\n",
        "    else:\n",
        "        raise(f'Unexpected return code: {res.status_code}')\n"
      ]
    },
    {
      "cell_type": "markdown",
      "metadata": {},
      "source": [
        "Finally, we call the function `get_freq_by_interval` to get *all* the frequency data of this gene:"
      ]
    },
    {
      "cell_type": "code",
      "execution_count": null,
      "metadata": {},
      "outputs": [],
      "source": [
        "# Collect results from get_freq_by_interval\n",
        "coll = {}\n",
        "get_freq_by_interval(chraccver, chrstart, chrstop)\n",
        "    \n",
        "print (f'Final result: {len(coll)}')"
      ]
    },
    {
      "cell_type": "code",
      "execution_count": null,
      "metadata": {},
      "outputs": [],
      "source": []
    }
  ],
  "metadata": {
    "colab": {
      "name": "freq_by_gene.ipynb",
      "provenance": [],
      "version": "0.3.2"
    },
    "kernelspec": {
      "display_name": "Python 3",
      "language": "python",
      "name": "python3"
    },
    "language_info": {
      "codemirror_mode": {
        "name": "ipython",
        "version": 3
      },
      "file_extension": ".py",
      "mimetype": "text/x-python",
      "name": "python",
      "nbconvert_exporter": "python",
      "pygments_lexer": "ipython3",
      "version": "3.7.3"
    }
  },
  "nbformat": 4,
  "nbformat_minor": 1
}