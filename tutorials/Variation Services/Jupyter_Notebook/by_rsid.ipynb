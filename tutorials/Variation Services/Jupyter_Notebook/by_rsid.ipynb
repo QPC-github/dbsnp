{
  "cells": [
    {
      "cell_type": "markdown",
      "metadata": {},
      "source": [
        "# Retrieving frequency data by RSID"
      ]
    },
    {
      "cell_type": "markdown",
      "metadata": {},
      "source": [
        "If you have an RefSNP ID, you can get the data from our API very simply. First, you need to install the `requests` package."
      ]
    },
    {
      "cell_type": "code",
      "execution_count": null,
      "metadata": {},
      "outputs": [],
      "source": [
        "%pip install -q requests\n",
        "%pip install -q ratelimit"
      ]
    },
    {
      "cell_type": "code",
      "execution_count": null,
      "metadata": {},
      "outputs": [],
      "source": [
        "from requests import get, codes as http_code"
      ]
    },
    {
      "cell_type": "markdown",
      "metadata": {},
      "source": [
        "Then you contact the \"frequency by rsid\" endpoint [`refsnp/<rsid>/frequency`][freq] (docs at our [Variation Services page][v0]).\n",
        "\n",
        "[freq]: https://api.ncbi.nlm.nih.gov/variation/v0/refsnp/16/frequency\n",
        "[v0]: https://api.ncbi.nlm.nih.gov/variation/v0/])."
      ]
    },
    {
      "cell_type": "code",
      "execution_count": null,
      "metadata": {},
      "outputs": [],
      "source": [
        "reply=get(\"https://api.ncbi.nlm.nih.gov/variation/v0/refsnp/{}/frequency\".format(16))\n",
        "reply.json()"
      ]
    },
    {
      "cell_type": "markdown",
      "metadata": {},
      "source": [
        "The reply's contents are of type JSON. So, we use the `json`  method of `requests` to convert it into a dictionary. You can use that dictionary directly."
      ]
    },
    {
      "cell_type": "code",
      "execution_count": null,
      "metadata": {},
      "outputs": [],
      "source": [
        "rj = reply.json()\n",
        "rj['results']['1@11563271']['counts']['PRJNA507278']['allele_counts']['SAMN10492695']['C']"
      ]
    },
    {
      "cell_type": "markdown",
      "metadata": {},
      "source": [
        "This means that study `PRJNA507278` (the dbGaP Allele Frequency Aggregation, ALFA, project) counted 160122 `C`s for population `SAMN10492695`, although the result can be different for new ALFA releases. You can translate those into English with the [metadata endpoint][metadata]. The `1@11563271` is an interval of length 1 starting after nucleotide 11563271 if you number nucleotides starting at 0.\n",
        "\n",
        "[metadata]: https://api.ncbi.nlm.nih.gov/variation/v0/metadata/frequency"
      ]
    },
    {
      "cell_type": "code",
      "execution_count": null,
      "metadata": {},
      "outputs": [],
      "source": [
        "md_json=get(\"https://api.ncbi.nlm.nih.gov/variation/v0/metadata/frequency\").json()\n",
        "md = {}\n",
        "for project_json in md_json:\n",
        "  p = {}\n",
        "  p['json']=project_json\n",
        "  p['pops']={}\n",
        "  md[project_json['bioproject_id']] = p\n",
        "\n",
        "def add_all_pops(populations, project):\n",
        "  for p in populations:\n",
        "    project['pops'][p['biosample_id']] = p\n",
        "  if 'subs' in p:\n",
        "    add_all_pops(p['subs'], project)\n",
        "\n",
        "for prj_id, prj in md.items():\n",
        "  add_all_pops(prj['json']['populations'], prj)\n",
        "\n",
        "print(md['PRJNA507278']['json']['short_name'])\n",
        "print(md['PRJNA507278']['pops']['SAMN10492695']['name'])"
      ]
    },
    {
      "cell_type": "markdown",
      "metadata": {},
      "source": [
        "So, those were the counts for people with European ancestry from the ALFA project."
      ]
    },
    {
      "cell_type": "markdown",
      "metadata": {},
      "source": [
        "However, for programmatic use, we'll want to wrap this in a function because the API is currently limited to one call per second. We can also take care of error conditions."
      ]
    },
    {
      "cell_type": "code",
      "execution_count": null,
      "metadata": {},
      "outputs": [],
      "source": [
        "from requests import get, codes as http_code\n",
        "from ratelimit import limits\n",
        "from typing import Any\n",
        "\n",
        "@limits(calls=1, period=1)  # Only one call per second\n",
        "def get_frequency_for(rs_id: str) -> Any:\n",
        "  \"\"\"\n",
        "  Retrieve frequency data by rsid in JSON format\n",
        "  \"\"\"\n",
        "  BYRSID_URL = (\"https://api.ncbi.nlm.nih.gov/variation/v0/\"\n",
        "                \"refsnp/{}/frequency\".format(rs_id))\n",
        "\n",
        "  reply = get(BYRSID_URL)\n",
        "  if reply.status_code != http_code.ok:\n",
        "    raise Exception(\"Request failed: {}\\n{}\".format(\n",
        "      reply.status_code, BYRSID_URL))\n",
        "\n",
        "  content_type = reply.headers['content-type']\n",
        "  if content_type != 'application/json':\n",
        "    raise Exception(\"Unexpected content type: {}\\n{}\".format(\n",
        "      content_type, BYRSID_URL))\n",
        "\n",
        "  return reply.json()"
      ]
    },
    {
      "cell_type": "markdown",
      "metadata": {},
      "source": [
        "The reply we obtained is represented with a Python dictionary whose element with key `results` contains the frequency data. That data inside that element is also a Python dictionary. Its elements consist of intervals, each of which is keyed by a combination of its `length` and its `start` position. \n",
        "\n",
        "The elements of each interval are keyed by the id of the study that the frequency data comes from. Inside each study element, the data consists of the reference allele of the interval (`ref` element) and its frequency counts (`counts` key)."
      ]
    },
    {
      "cell_type": "code",
      "execution_count": null,
      "metadata": {},
      "outputs": [],
      "source": [
        "def print_study_counts(study_id: str, study_counts: Any) -> None:\n",
        "  \"\"\"\n",
        "  Print counts per study\n",
        "\n",
        "  At present, we only offer counts per allele,\n",
        "  not yet per genotype\n",
        "  \"\"\"\n",
        "  print(\"\\tAllele counts for study: {}\".format(study_id))\n",
        "  allele_counts = study_counts[\"allele_counts\"]\n",
        "\n",
        "  for pop_id, pop_counts in allele_counts.items():\n",
        "    print(\"\\t\\tAllele counts for population {}\".format(pop_id))\n",
        "    for allele, count in pop_counts.items():\n",
        "      print(\"\\t\\t\\tAllele: {}. Count: {}\".format(\n",
        "        allele, count))"
      ]
    },
    {
      "cell_type": "markdown",
      "metadata": {},
      "source": [
        "In the example code below, we start by retrieving the frequency data for RSID 16. We then iterate over the intervals, and print for each their `start` and `length` positions and their `ref` alelle. Then we iterate over each study and print its allele counts using the function `print_study_counts` above. Inside that function we can see that the allele counts are broken down first by population and then by allele."
      ]
    },
    {
      "cell_type": "code",
      "execution_count": null,
      "metadata": {},
      "outputs": [],
      "source": [
        "frequency_data = get_frequency_for(rs_id=16)\n",
        "for interval, freq_by_pop in frequency_data[\"results\"].items():\n",
        "  # Each key describes an interval\n",
        "  # in <length>@<start> format\n",
        "  length, start = interval.split(\"@\")\n",
        "  print(\"Start: {}. Length: {}. Ref. Allele: {}\".format(\n",
        "    start, length, freq_by_pop[\"ref\"]))\n",
        "  counts_per_study = freq_by_pop[\"counts\"]\n",
        "\n",
        "  # Print counts per study\n",
        "  for study_id, study_counts in counts_per_study.items():\n",
        "    print_study_counts(study_id, study_counts)"
      ]
    }
  ],
  "metadata": {
    "colab": {
      "collapsed_sections": [],
      "name": "by_rsid.ipynb",
      "provenance": [],
      "version": "0.3.2"
    },
    "kernelspec": {
      "display_name": "Python 3",
      "language": "python",
      "name": "python3"
    },
    "language_info": {
      "codemirror_mode": {
        "name": "ipython",
        "version": 3
      },
      "file_extension": ".py",
      "mimetype": "text/x-python",
      "name": "python",
      "nbconvert_exporter": "python",
      "pygments_lexer": "ipython3",
      "version": "3.6.2"
    }
  },
  "nbformat": 4,
  "nbformat_minor": 1
}
