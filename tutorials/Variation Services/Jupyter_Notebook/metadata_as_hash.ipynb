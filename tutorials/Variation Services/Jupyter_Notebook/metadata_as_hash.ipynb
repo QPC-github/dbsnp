{
  "cells": [
    {
      "cell_type": "markdown",
      "metadata": {},
      "source": [
        "# Metadata access and use\n",
        "\n",
        "In this notebook, we provide three tutorials. In the first tutorial we show how to access metadata about studies (used to calculate frequencies) using one of our services. In the second tutorial, we present Python functions to transform the metadata about studies into dictionaries indexed by their bioproject ids. The populations associated with each study are in turn indexed by their biosample ids. This initial transformation preserves the hierarchical structure of the studies and their populations. Finally, the third tutorial presents a way to index populations by their biosample ids but using a flatter structure than the original."
      ]
    },
    {
      "cell_type": "markdown",
      "metadata": {},
      "source": [
        "## Accessing the metadata"
      ]
    },
    {
      "cell_type": "markdown",
      "metadata": {},
      "source": [
        "In this tutorial we provide code that allows you to access the metadata using our services. The function `get_metadata` below shows not only how to retrieve the metadata in JSON format, but also how to check if any errors occurred that prevented that retrieval."
      ]
    },
    {
      "cell_type": "code",
      "execution_count": null,
      "metadata": {},
      "outputs": [],
      "source": [
        "%pip install --quiet requests\n",
        "%pip install --quiet ratelimit"
      ]
    },
    {
      "cell_type": "code",
      "execution_count": null,
      "metadata": {},
      "outputs": [],
      "source": [
        "import json\n",
        "from ratelimit import limits\n",
        "from requests import get, codes as http_code\n",
        "from typing import Any, Dict, List\n",
        "\n",
        "\n",
        "VarFreqMetadata = List[Dict[str, Any]]\n",
        "MetadataDict = Dict[str, Dict[str, Any]]\n",
        "\n",
        "\n",
        "@limits(calls=1, period=1)  # Only one call per second\n",
        "def get_metadata() -> VarFreqMetadata:\n",
        "    \"\"\"\n",
        "    Retrieve information that describes all studies and populations\n",
        "    used by the frequency endpoints\n",
        "    \"\"\"\n",
        "    METADATA_URL = (\"https://api.ncbi.nlm.nih.gov/variation/v0/\"\n",
        "                    \"metadata/frequency\")\n",
        "\n",
        "    reply = get(METADATA_URL)\n",
        "    if reply.status_code != http_code.ok:\n",
        "        raise Exception(\"Request failed: {}\\n{}\".format(\n",
        "            reply.status_code, METADATA_URL))\n",
        "\n",
        "    content_type = reply.headers['content-type']\n",
        "    if content_type != 'application/json':\n",
        "        raise Exception(\"Unexpected content type: {}\\n{}\".format(\n",
        "            content_type, METADATA_URL))\n",
        "\n",
        "    return reply.json()"
      ]
    },
    {
      "cell_type": "markdown",
      "metadata": {},
      "source": [
        "Now that we have that function available, we can use it to retrieve the metadata. We also print it in a human-friendly manner."
      ]
    },
    {
      "cell_type": "code",
      "execution_count": null,
      "metadata": {},
      "outputs": [],
      "source": [
        "metadata = get_metadata()\n",
        "\n",
        "print(json.dumps(metadata, indent=4, sort_keys=True))"
      ]
    },
    {
      "cell_type": "markdown",
      "metadata": {},
      "source": [
        "You can see that the metadata as retrieved from our backend consists of a list of dictionaries. Each dictionary corresponds to a study or \"Bioproject\" that has a given accession called `bioproject_id` and contains a list of populations. Each of those populations is called a \"Biosample\" and has an accession called `biosample_id`. A population may, in turn, have sub-populations. Every one of those sub-populations has a biosample id, and may contain subpopulations too. Biosample ids are unique across all studies."
      ]
    },
    {
      "cell_type": "markdown",
      "metadata": {},
      "source": [
        "## Transforming the metadata to dictionaries indexed by accessions\n",
        "\n",
        "In its raw form, the metadata coming from our backends is a list of dictionaries that contain information about studies (Bioprojects). The populations that provided data for each such study are stored in lists inside each study dictionary. Thus, to find the information about a given population, you need to first iterate sequentially over the list of studies. Then you iterate over the list of populations until you find the accession (stored with the key `biosample_id`) you are looking for.\n",
        "\n",
        "In this tutorial we provide Python code that allows you to transform that list into a dictionary of dictionaries. The outermost dictionary contains the information of each study indexed by that study's bioproject id. This is done by the `convert_metadata_to_dict` function below. \n",
        "\n",
        "Each of the study dictionaries will contain another dictionary whose keys are the accessions (biosample ids) of its populations. Because a population can contain sub-populations, their dictionaries contain those subpopulations organized as dictionaries with ther biosample ids used as keys. This re-organization is performed by the function `to_pop_dict` below. It is called by `convert_metadata_to_dict` for each study's list of populations."
      ]
    },
    {
      "cell_type": "code",
      "execution_count": null,
      "metadata": {},
      "outputs": [],
      "source": [
        "def to_pop_dict(pop: Any) -> Dict[str, Any]:\n",
        "    pop_accession = pop.pop(\"biosample_id\", None)\n",
        "\n",
        "    sub_pops = pop.pop(\"subs\", None)\n",
        "\n",
        "    # at this point, the population object contains\n",
        "    # just simple elements\n",
        "    pop_dict: Dict[str, Any] = pop.copy()\n",
        "\n",
        "    if sub_pops:\n",
        "        pop_sub_pops: Dict[str, Any] = dict()\n",
        "        for sub_pop in sub_pops:\n",
        "            pop_sub_pops.update(to_pop_dict(sub_pop))\n",
        "        pop_dict[\"subs\"] = pop_sub_pops\n",
        "\n",
        "    return {pop_accession: pop_dict}\n",
        "\n",
        "\n",
        "def convert_metadata_to_dict(metadata_orig: VarFreqMetadata) -> MetadataDict:\n",
        "    metadata_dict: MetadataDict = dict()\n",
        "    for study in metadata_orig:\n",
        "        bioproject_id = study.pop(\"bioproject_id\", None)\n",
        "        study_pop_md = study.pop(\"populations\", None)\n",
        "\n",
        "        # at this point, study contains just simple elements\n",
        "        study_metadata: Dict[str, Any] = study.copy()\n",
        "\n",
        "        populations: Dict[str, Any] = dict()\n",
        "        for pop in study_pop_md:\n",
        "            populations.update(to_pop_dict(pop))\n",
        "\n",
        "        study_metadata.update(\n",
        "            {\"populations\": populations})\n",
        "\n",
        "        metadata_dict.update({bioproject_id: study_metadata})\n",
        "\n",
        "    return metadata_dict"
      ]
    },
    {
      "cell_type": "code",
      "execution_count": null,
      "metadata": {},
      "outputs": [],
      "source": [
        "import copy\n",
        "\n",
        "metadata_dict = convert_metadata_to_dict(copy.deepcopy(metadata))"
      ]
    },
    {
      "cell_type": "code",
      "execution_count": null,
      "metadata": {},
      "outputs": [],
      "source": [
        "print(json.dumps(metadata_dict, indent=4, sort_keys=True))"
      ]
    },
    {
      "cell_type": "markdown",
      "metadata": {},
      "source": [
        "## Indexing populations by their biosample ids\n",
        "\n",
        "Here, we demonstrate how to index populations by their biosample ids using a flatter structure than the original. In the original metadata, when a population has one or more subpopulations, they are included in a list. If one of those subpopulations has itself subpopulations, you need to explore the structure even more deeply until you find the population you need.\n",
        "\n",
        "In the flatter version, all populations are at the top level of the hierarchy. If one of them has subpopulations, their biosample ids alone are stored in a list. You can locate any population identified by any of those ids in the list by querying the flatter dictionary.\n",
        "\n",
        "The function `build_population_dictionary` builds this dictionary of populations by visiting each bioproject in the metadata, and adding each of its populations to the dictionary. It uses the function `flatten_population_tree` to do this."
      ]
    },
    {
      "cell_type": "code",
      "execution_count": null,
      "metadata": {},
      "outputs": [],
      "source": [
        "def flatten_population_tree(pop_list: List[MetadataDict]) -> MetadataDict:\n",
        "    result: MetadataDict = dict()\n",
        "    for population in pop_list:\n",
        "        biosample_id = population.pop(\"biosample_id\", None)\n",
        "        sub_pops = population.pop(\"subs\", None)\n",
        "\n",
        "        result.update({biosample_id: population})\n",
        "        if sub_pops:\n",
        "            subs = flatten_population_tree(sub_pops)\n",
        "            if subs:\n",
        "                population[\"subs\"] = list(subs.keys())\n",
        "                result.update(subs)\n",
        "    return result\n",
        "\n",
        "def build_population_dictionary(metadata_orig: VarFreqMetadata) -> MetadataDict:\n",
        "    result: MetadataDict = dict()\n",
        "\n",
        "    for study in metadata_orig:\n",
        "        result.update(\n",
        "            flatten_population_tree(study[\"populations\"]))\n",
        "\n",
        "    return result"
      ]
    },
    {
      "cell_type": "markdown",
      "metadata": {},
      "source": [
        "Now we can call that function and use it to first print the information about the global population. Then we print the entire dictionary."
      ]
    },
    {
      "cell_type": "code",
      "execution_count": null,
      "metadata": {},
      "outputs": [],
      "source": [
        "pop_dict = build_population_dictionary(copy.deepcopy(metadata))\n",
        "\n",
        "# prints information about the global population\n",
        "print(json.dumps(pop_dict[\"SAMN10492705\"], indent=4, sort_keys=True))"
      ]
    },
    {
      "cell_type": "code",
      "execution_count": null,
      "metadata": {},
      "outputs": [],
      "source": [
        "# prints the entire dictionary\n",
        "print(json.dumps(pop_dict, indent=4, sort_keys=True))"
      ]
    }
  ],
  "metadata": {
    "kernelspec": {
      "display_name": "Python 3",
      "language": "python",
      "name": "python3"
    },
    "language_info": {
      "codemirror_mode": {
        "name": "ipython",
        "version": 3
      },
      "file_extension": ".py",
      "mimetype": "text/x-python",
      "name": "python",
      "nbconvert_exporter": "python",
      "pygments_lexer": "ipython3",
      "version": "3.6.2"
    }
  },
  "nbformat": 4,
  "nbformat_minor": 2
}