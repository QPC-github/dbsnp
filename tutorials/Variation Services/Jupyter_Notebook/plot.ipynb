{
  "cells": [
    {
      "cell_type": "markdown",
      "metadata": {},
      "source": [
        "# Plot population minor allele frequencies (MAFs) for genes\n",
        "\n",
        "Let's compare the MAF for a few populations over the [APOE gene](https://www.ncbi.nlm.nih.gov/variation/view/?cfg=NCID_1_20854257_130.14.22.10_9146_1558129725_3670287406) region.\n",
        "The region is located on chromosome 19 (NC_000019.10): 44,905,384 - 44,909,760\n",
        "\n",
        "## Requirements\n",
        "There are a few things we need to do before starting:\n",
        "\n",
        "NB: This workbook has been tested with Python 3.6 and Python 3.7."
      ]
    },
    {
      "cell_type": "code",
      "execution_count": null,
      "metadata": {},
      "outputs": [],
      "source": [
        "%pip install -q requests matplotlib > /dev/null"
      ]
    },
    {
      "cell_type": "code",
      "execution_count": null,
      "metadata": {},
      "outputs": [],
      "source": [
        "%matplotlib inline"
      ]
    },
    {
      "cell_type": "code",
      "execution_count": null,
      "metadata": {},
      "outputs": [],
      "source": [
        "from requests import get\n",
        "\n",
        "import matplotlib.pyplot as plt\n",
        "from collections import defaultdict\n",
        "import sys"
      ]
    },
    {
      "cell_type": "code",
      "execution_count": null,
      "metadata": {},
      "outputs": [],
      "source": [
        "plt.rcParams['figure.figsize'] = [16, 8]  # Make plot bigger"
      ]
    },
    {
      "cell_type": "markdown",
      "metadata": {},
      "source": [
        "## Download data\n",
        "Here is a genomic region we are going to plot:"
      ]
    },
    {
      "cell_type": "code",
      "execution_count": null,
      "metadata": {},
      "outputs": [],
      "source": [
        "seq_id = 'NC_000019.10'\n",
        "start = 44905384\n",
        "stop = 44909760"
      ]
    },
    {
      "cell_type": "code",
      "execution_count": null,
      "metadata": {},
      "outputs": [],
      "source": [
        "resp = get(f'https://api.ncbi.nlm.nih.gov/variation/v0/interval/{seq_id}:{start}:{stop - start}/overlapping_frequency_records')\n",
        "print(resp.status_code)"
      ]
    },
    {
      "cell_type": "markdown",
      "metadata": {},
      "source": [
        "**Status code**: `206` means that not all the requested variants fit into a single reply.\n",
        "So we need to parse the data, get the latest position and continue requesting data until we get a reply with status code 200."
      ]
    },
    {
      "cell_type": "code",
      "execution_count": null,
      "metadata": {},
      "outputs": [],
      "source": [
        "def download(seq_id: str, start: int, stop: int):\n",
        "    \"\"\"\n",
        "    Download all frequencies in a specified region\n",
        "    \"\"\"\n",
        "    data = {}\n",
        "    while True:\n",
        "        length = max(1, stop - start + 1)\n",
        "        resp = get(f'https://api.ncbi.nlm.nih.gov/variation/v0/interval/{seq_id}:{start}:{length}/overlapping_frequency_records')\n",
        "        if resp.status_code // 100 != 2:\n",
        "            raise Exception(\"Unable to download data\", resp.status_code, resp.content)\n",
        "        result = resp.json()[\"results\"]\n",
        "        data.update(result)\n",
        "        if resp.status_code == 200:\n",
        "            return data  # We are done\n",
        "\n",
        "        for k,v in result.items():\n",
        "            l, s = k.split('@')\n",
        "            start = max(start, int(s))"
      ]
    },
    {
      "cell_type": "code",
      "execution_count": null,
      "metadata": {},
      "outputs": [],
      "source": [
        "data = download(seq_id, start, stop)"
      ]
    },
    {
      "cell_type": "code",
      "execution_count": null,
      "metadata": {},
      "outputs": [],
      "source": [
        "print(\"Number of variations: \", len(data))"
      ]
    },
    {
      "cell_type": "markdown",
      "metadata": {},
      "source": [
        "Now, for each record, we need to calculate MAF per population"
      ]
    },
    {
      "cell_type": "code",
      "execution_count": null,
      "metadata": {},
      "outputs": [],
      "source": [
        "def maf(record):\n",
        "    \"\"\"\n",
        "    Calculate minor allele frequencies (MAFs) for all populations within the given record\n",
        "    \"\"\"\n",
        "    maf = {}  # Population to MAF\n",
        "    for project, counts in record['counts'].items():\n",
        "        for population, ac in counts['allele_counts'].items():\n",
        "            counts = [allele_count for allele, allele_count in ac.items()]\n",
        "            counts.sort(reverse=True)\n",
        "            if len(counts) <= 1:\n",
        "                maf[population] = 0\n",
        "                continue\n",
        "            total = sum(counts)\n",
        "            if total > 0: \n",
        "                maf[population] = counts[1] / total\n",
        "            else:\n",
        "                maf[population] = 0\n",
        "    return maf"
      ]
    },
    {
      "cell_type": "code",
      "execution_count": null,
      "metadata": {},
      "outputs": [],
      "source": [
        "def translate(data):\n",
        "    \"\"\"\n",
        "    Translate overlapped region endpoint result to data ready to plot.\n",
        "    \"\"\"\n",
        "    position = []\n",
        "    freq = defaultdict(list)\n",
        "    for k, v in data.items():\n",
        "        l, s = k.split('@')\n",
        "        start = int(s)\n",
        "        position.append(start)\n",
        "        mafs = maf(v)\n",
        "        for p, ma in mafs.items():\n",
        "            freq[p].append(ma)\n",
        "    return position, freq"
      ]
    },
    {
      "cell_type": "code",
      "execution_count": null,
      "metadata": {},
      "outputs": [],
      "source": [
        "x, pop = translate(data)"
      ]
    },
    {
      "cell_type": "markdown",
      "metadata": {},
      "source": [
        "## Metadata\n",
        "If we look into this data we will see that all populations were reported using their biosample ids. That is not the best way to use in a visualization.\n",
        "So, we are going to translate it to human readable form: here is where the metadata service is helpful."
      ]
    },
    {
      "cell_type": "code",
      "execution_count": null,
      "metadata": {},
      "outputs": [],
      "source": [
        "def build_pop_map():\n",
        "    \"\"\"\n",
        "    Download metadata and parse it.\n",
        "    \"\"\"\n",
        "    meta_r = get('https://api.ncbi.nlm.nih.gov/variation/v0/metadata/frequency')\n",
        "    if meta_r.status_code != 200:\n",
        "        raise Exception(\"Can't download metadata\")\n",
        "    result = {}\n",
        "    def _read(pops):\n",
        "        for pop in pops:\n",
        "            result[pop[\"biosample_id\"]] = pop[\"name\"]\n",
        "            if \"subs\" in pop:\n",
        "                _read(pop[\"subs\"])\n",
        "    _read(meta_r.json()[0][\"populations\"])\n",
        "    return result"
      ]
    },
    {
      "cell_type": "code",
      "execution_count": null,
      "metadata": {},
      "outputs": [],
      "source": [
        "meta = build_pop_map()  # Now meta is the map of biosample_id to population name"
      ]
    },
    {
      "cell_type": "code",
      "execution_count": null,
      "metadata": {},
      "outputs": [],
      "source": [
        "from matplotlib import cycler\n",
        "def show1():\n",
        "    for p, data in pop.items():\n",
        "        # Plot only non-zero MAF\n",
        "        filtered_x = [xx for i,xx in enumerate(x) if data[i] > 0]\n",
        "        filtered_data = [dd for i,dd in enumerate(data) if data[i] > 0]\n",
        "        plt.scatter(filtered_x, filtered_data, label=meta[p])\n",
        "\n",
        "    plt.title('Minor Allele Frequency')\n",
        "    plt.legend(loc=2, bbox_to_anchor=(1.04,1))\n",
        "    plt.yscale('log')\n",
        "    num_colors = len(meta)\n",
        "    colormap = plt.get_cmap('gist_rainbow')\n",
        "    plt.rc('axes', prop_cycle=cycler(color=[colormap(1.*i/num_colors) for i in range(num_colors)]))\n",
        "    plt.show()\n",
        "show1()"
      ]
    },
    {
      "cell_type": "markdown",
      "metadata": {},
      "source": [
        "# Comparing population frequencies\n",
        "Let's build a scatter plot for allele frequencies for two populations."
      ]
    },
    {
      "cell_type": "code",
      "execution_count": null,
      "metadata": {},
      "outputs": [],
      "source": [
        "def cross_frequency(data, pop_id_x, pop_id_y):\n",
        "    \n",
        "    res_x = defaultdict(list)\n",
        "    res_y = defaultdict(list)\n",
        "    records_missing_pop_data = 0\n",
        "    total_records = 0\n",
        "    for _, record in data.items():\n",
        "        total_records += 1\n",
        "        for _, counts in record['counts'].items():\n",
        "            \n",
        "            px = counts['allele_counts'][pop_id_x]\n",
        "            py = counts['allele_counts'][pop_id_y]\n",
        "            \n",
        "            def _pop_freq(p):\n",
        "                r = {}\n",
        "                total = sum([allele_count for allele, allele_count in p.items()])\n",
        "                if total == 0: # This population had no one with any measurements\n",
        "                    return None\n",
        "                for allele, allele_count in p.items():\n",
        "                    r[allele] = allele_count / total\n",
        "                return r\n",
        "            pfx = _pop_freq(px)\n",
        "            pfy = _pop_freq(py)\n",
        "            if pfx is None or pfy is None:\n",
        "              records_missing_pop_data += 1\n",
        "              continue\n",
        "            for a, fx in pfx.items():\n",
        "                if a in pfy:\n",
        "                    res_x[a].append(fx)\n",
        "                    res_y[a].append(pfy[a])\n",
        "    print(f\"Skipped {records_missing_pop_data} of {total_records} records because they had no measurements for one of the populations\",\n",
        "         file=sys.stderr)\n",
        "    return res_x, res_y"
      ]
    },
    {
      "cell_type": "code",
      "execution_count": null,
      "metadata": {},
      "outputs": [],
      "source": [
        "def show_cross_frequency(seq_id, start, stop, pop_x, pop_y):\n",
        "    data = download(seq_id, start, stop)\n",
        "    cf_x, cf_y = cross_frequency(data, pop_x, pop_y)\n",
        "    for allele, allele_freq_x in cf_x.items():\n",
        "        allele_freq_y = cf_y[allele]\n",
        "        \n",
        "        plt.scatter(allele_freq_x, allele_freq_y, label=allele)\n",
        "        plt.xlabel(meta[pop_x])\n",
        "        plt.ylabel(meta[pop_y])\n",
        "    plt.title(f'Cross Allele frequency {seq_id}, {start}, {stop}')\n",
        "    plt.show()"
      ]
    },
    {
      "cell_type": "code",
      "execution_count": null,
      "metadata": {},
      "outputs": [],
      "source": [
        "show_cross_frequency('NC_000019.10', 44905384, 44909760, 'SAMN10492695', 'SAMN10492703')"
      ]
    },
    {
      "cell_type": "code",
      "execution_count": null,
      "metadata": {},
      "outputs": [],
      "source": [
        "show_cross_frequency('NC_000011.10',61362000, 61378224, 'SAMN10492695', 'SAMN10492703')"
      ]
    }
  ],
  "metadata": {
    "colab": {
      "name": "plot.ipynb",
      "provenance": [],
      "version": "0.3.2"
    },
    "kernelspec": {
      "display_name": "Python 3",
      "language": "python",
      "name": "python3"
    },
    "language_info": {
      "codemirror_mode": {
        "name": "ipython",
        "version": 3
      },
      "file_extension": ".py",
      "mimetype": "text/x-python",
      "name": "python",
      "nbconvert_exporter": "python",
      "pygments_lexer": "ipython3",
      "version": "3.6.2"
    }
  },
  "nbformat": 4,
  "nbformat_minor": 1
}