{
 "cells": [
  {
   "cell_type": "code",
   "execution_count": 1,
   "metadata": {},
   "outputs": [],
   "source": [
    "import sys, os\n",
    "import json\n",
    "sys.path.append('../lib/python')\n",
    "from navs import *\n",
    "from rsatt import *"
   ]
  },
  {
   "cell_type": "code",
   "execution_count": 2,
   "metadata": {},
   "outputs": [],
   "source": [
    "att = rsatt()"
   ]
  },
  {
   "cell_type": "code",
   "execution_count": 3,
   "metadata": {},
   "outputs": [],
   "source": [
    "var = Variation(328)"
   ]
  },
  {
   "cell_type": "code",
   "execution_count": 4,
   "metadata": {},
   "outputs": [],
   "source": [
    "rs_obj = json.loads(var.asJson())"
   ]
  },
  {
   "cell_type": "code",
   "execution_count": 5,
   "metadata": {},
   "outputs": [
    {
     "data": {
      "text/plain": [
       "[['328', 'DEBNICK', 'subsnp', 'ss329'],\n",
       " ['328', 'WIAF-CSNP', 'subsnp', 'ss3173350'],\n",
       " ['328', 'YUSUKE', 'subsnp', 'ss4921960'],\n",
       " ['328', 'BCM_SSAHASNP', 'subsnp', 'ss10467174'],\n",
       " ['328', 'IMCJ-GDT', 'subsnp', 'ss16343000'],\n",
       " ['328', 'PERLEGEN', 'subsnp', 'ss24648907'],\n",
       " ['328', 'APPLERA_GI', 'subsnp', 'ss48420139'],\n",
       " ['328', 'PERLEGEN', 'subsnp', 'ss69043156'],\n",
       " ['328', 'SI_EXO', 'subsnp', 'ss71648660'],\n",
       " ['328', 'AFFY', 'subsnp', 'ss74808885'],\n",
       " ['328', 'PAGE_STUDY', 'subsnp', 'ss181341878'],\n",
       " ['328', 'PAGE_STUDY', 'subsnp', 'ss181834342'],\n",
       " ['328', 'PAGE_STUDY', 'subsnp', 'ss181835906'],\n",
       " ['328', 'PAGE_STUDY', 'subsnp', 'ss182258758'],\n",
       " ['328', 'BUSHMAN', 'subsnp', 'ss198888197'],\n",
       " ['328', '1000GENOMES', 'subsnp', 'ss217321427'],\n",
       " ['328', '1000GENOMES', 'subsnp', 'ss217397633'],\n",
       " ['328', '1000GENOMES', 'subsnp', 'ss217399174'],\n",
       " ['328', '1000GENOMES', 'subsnp', 'ss217407233'],\n",
       " ['328', '1000GENOMES', 'subsnp', 'ss217418296'],\n",
       " ['328', '1000GENOMES', 'subsnp', 'ss217419027'],\n",
       " ['328', '1000GENOMES', 'subsnp', 'ss217422429'],\n",
       " ['328', '1000GENOMES', 'subsnp', 'ss223585670'],\n",
       " ['328', '1000GENOMES', 'subsnp', 'ss234352504'],\n",
       " ['328', '1000GENOMES', 'subsnp', 'ss241227319'],\n",
       " ['328', 'OMICIA', 'subsnp', 'ss244238714'],\n",
       " ['328', 'ILLUMINA', 'subsnp', 'ss244294501'],\n",
       " ['328', 'OMIM-CURATED-RECORDS', 'subsnp', 'ss252841585'],\n",
       " ['328', 'BL', 'subsnp', 'ss254171515'],\n",
       " ['328', 'GMI', 'subsnp', 'ss279724045'],\n",
       " ['328', 'NHLBI-ESP', 'subsnp', 'ss342253806'],\n",
       " ['328', 'ILLUMINA', 'subsnp', 'ss410878568'],\n",
       " ['328', 'ILLUMINA', 'subsnp', 'ss484193264'],\n",
       " ['328', 'ILLUMINA', 'subsnp', 'ss485584695'],\n",
       " ['328', '1000GENOMES', 'subsnp', 'ss490960926'],\n",
       " ['328', 'EXOME_CHIP', 'subsnp', 'ss491410902'],\n",
       " ['328', 'CLINSEQ_SNP', 'subsnp', 'ss491921994'],\n",
       " ['328', 'ILLUMINA', 'subsnp', 'ss536381272'],\n",
       " ['328', 'SSMP', 'subsnp', 'ss655035593'],\n",
       " ['328', 'ILLUMINA', 'subsnp', 'ss779528090'],\n",
       " ['328', 'ILLUMINA', 'subsnp', 'ss780867941'],\n",
       " ['328', 'ILLUMINA', 'subsnp', 'ss782542564'],\n",
       " ['328', 'ILLUMINA', 'subsnp', 'ss783552875'],\n",
       " ['328', 'ILLUMINA', 'subsnp', 'ss834998628'],\n",
       " ['328', 'EVA-GONL', 'subsnp', 'ss985272683'],\n",
       " ['328', 'JMKIDD_LAB', 'subsnp', 'ss1067495952'],\n",
       " ['328', 'JMKIDD_LAB', 'subsnp', 'ss1075340057'],\n",
       " ['328', '1000GENOMES', 'subsnp', 'ss1328915353'],\n",
       " ['328', 'HAMMER_LAB', 'subsnp', 'ss1397520212'],\n",
       " ['328', 'EVA_GENOME_DK', 'subsnp', 'ss1582593788'],\n",
       " ['328', 'EVA_FINRISK', 'subsnp', 'ss1584057350'],\n",
       " ['328', 'EVA_DECODE', 'subsnp', 'ss1594862344'],\n",
       " ['328', 'EVA_UK10K_ALSPAC', 'subsnp', 'ss1620133815'],\n",
       " ['328', 'EVA_UK10K_TWINSUK', 'subsnp', 'ss1663127848'],\n",
       " ['328', 'EVA_EXAC', 'subsnp', 'ss1689111743'],\n",
       " ['328', 'EVA_MGP', 'subsnp', 'ss1711194717'],\n",
       " ['328', 'ILLUMINA', 'subsnp', 'ss1752723251'],\n",
       " ['328', 'ILLUMINA', 'subsnp', 'ss1917826331'],\n",
       " ['328', 'WEILL_CORNELL_DGM', 'subsnp', 'ss1928562440'],\n",
       " ['328', 'ILLUMINA', 'subsnp', 'ss1946231552'],\n",
       " ['328', 'ILLUMINA', 'subsnp', 'ss1959093919'],\n",
       " ['328', 'JJLAB', 'subsnp', 'ss2024980591'],\n",
       " ['328', 'ILLUMINA', 'subsnp', 'ss2094987020'],\n",
       " ['328', 'ILLUMINA', 'subsnp', 'ss2095209247'],\n",
       " ['328', 'USC_VALOUEV', 'subsnp', 'ss2153202052'],\n",
       " ['328', 'HUMAN_LONGEVITY', 'subsnp', 'ss2301288406'],\n",
       " ['328', 'TOPMED', 'subsnp', 'ss2470946277'],\n",
       " ['328', 'ILLUMINA', 'subsnp', 'ss2634720469'],\n",
       " ['328', 'ILLUMINA', 'subsnp', 'ss2634720470'],\n",
       " ['328', 'ILLUMINA', 'subsnp', 'ss2634720471'],\n",
       " ['328', 'GRF', 'subsnp', 'ss2708962560'],\n",
       " ['328', 'GNOMAD', 'subsnp', 'ss2737022600'],\n",
       " ['328', 'GNOMAD', 'subsnp', 'ss2748007794'],\n",
       " ['328', 'GNOMAD', 'subsnp', 'ss2864093419'],\n",
       " ['328', 'AFFY', 'subsnp', 'ss2985433067'],\n",
       " ['328', 'AFFY', 'subsnp', 'ss2986076219'],\n",
       " ['328', 'SWEGEN', 'subsnp', 'ss3002804512'],\n",
       " ['328', 'ILLUMINA', 'subsnp', 'ss3022826115'],\n",
       " ['328', 'BIOINF_KMB_FNS_UNIBA', 'subsnp', 'ss3026281130'],\n",
       " ['328', 'CSHL', 'subsnp', 'ss3348082059'],\n",
       " ['328', 'TOPMED', 'subsnp', 'ss3555884012'],\n",
       " ['328', 'ILLUMINA', 'subsnp', 'ss3625947311'],\n",
       " ['328', 'ILLUMINA', 'subsnp', 'ss3630013668'],\n",
       " ['328', 'ILLUMINA', 'subsnp', 'ss3630013669'],\n",
       " ['328', 'ILLUMINA', 'subsnp', 'ss3632621006'],\n",
       " ['328', 'ILLUMINA', 'subsnp', 'ss3635162189'],\n",
       " ['328', 'ILLUMINA', 'subsnp', 'ss3640869479'],\n",
       " ['328', 'ILLUMINA', 'subsnp', 'ss3644964726'],\n",
       " ['328', 'OMUKHERJEE_ADBS', 'subsnp', 'ss3646373026'],\n",
       " ['328', 'ILLUMINA', 'subsnp', 'ss3653367072'],\n",
       " ['328', 'ILLUMINA', 'subsnp', 'ss3653367073'],\n",
       " ['328', 'ILLUMINA', 'subsnp', 'ss3654194881'],\n",
       " ['328', '1000Genomes', 'frequency', '1000Genomes.1:41010104'],\n",
       " ['328', 'ALSPAC', 'frequency', 'ALSPAC.1:22797219'],\n",
       " ['328', 'Estonian', 'frequency', 'Estonian.1:16222805'],\n",
       " ['328', 'ExAC', 'frequency', 'ExAC.1:9205345'],\n",
       " ['328', 'GnomAD', 'frequency', 'GnomAD.1:204721173'],\n",
       " ['328', 'GnomAD_exomes', 'frequency', 'GnomAD_exomes.1:4914522'],\n",
       " ['328', 'TOPMED', 'frequency', 'TOPMED.2:384683375'],\n",
       " ['328', 'TWINSUK', 'frequency', 'TWINSUK.1:22797219'],\n",
       " ['328', '', 'clinvar', 'RCV000001598.2'],\n",
       " ['328', '', 'clinvar', 'RCV000385586.1']]"
      ]
     },
     "execution_count": 5,
     "metadata": {},
     "output_type": "execute_result"
    }
   ],
   "source": [
    "#Submitted SNP (ss) information\n",
    "att.ss(rs_obj)"
   ]
  },
  {
   "cell_type": "code",
   "execution_count": 6,
   "metadata": {},
   "outputs": [],
   "source": [
    "#genomic placement on latest assembly\n",
    "genomic_pos = att.genomic_placements(rs_obj)"
   ]
  },
  {
   "cell_type": "code",
   "execution_count": 7,
   "metadata": {},
   "outputs": [
    {
     "name": "stdout",
     "output_type": "stream",
     "text": [
      "{'alleles': [{'allele': 'C'}, {'allele': 'G'}], 'seq_id': 'NC_000008.11', 'position': 19962212}\n"
     ]
    }
   ],
   "source": [
    "print(genomic_pos)"
   ]
  },
  {
   "cell_type": "code",
   "execution_count": 8,
   "metadata": {},
   "outputs": [],
   "source": [
    "#RefSeq NM and NP annotations including gene information, SO terms, etc.\n",
    "refseqAnnot = att.refseq_annot(rs_obj)"
   ]
  },
  {
   "cell_type": "code",
   "execution_count": 9,
   "metadata": {},
   "outputs": [
    {
     "name": "stdout",
     "output_type": "stream",
     "text": [
      "{'alleles': [{'allele': 'C', 'refseq_annot': {'name': 'lipoprotein lipase', 'id': 4023, 'locus': 'LPL', 'is_pseudo': False, 'orientation': 'plus', 'sequence_ontology': [], 'rnas': [{'id': 'NM_000237.2', 'codon_aligned_transcript_change': {'seq_id': 'NM_000237.2', 'position': 1789, 'deleted_sequence': 'TCA', 'inserted_sequence': 'TCA'}, 'sequence_ontology': [{'name': 'coding_sequence_variant', 'accession': 'SO:0001580'}], 'product_id': 'NP_000228.1', 'protein': {'variant': {'spdi': {'seq_id': 'NP_000228.1', 'position': 473, 'deleted_sequence': 'S', 'inserted_sequence': 'S'}}, 'sequence_ontology': []}}]}}, {'allele': 'G', 'refseq_annot': {'name': 'lipoprotein lipase', 'id': 4023, 'locus': 'LPL', 'is_pseudo': False, 'orientation': 'plus', 'sequence_ontology': [], 'rnas': [{'id': 'NM_000237.2', 'codon_aligned_transcript_change': {'seq_id': 'NM_000237.2', 'position': 1789, 'deleted_sequence': 'TCA', 'inserted_sequence': 'TGA'}, 'sequence_ontology': [{'name': 'coding_sequence_variant', 'accession': 'SO:0001580'}], 'product_id': 'NP_000228.1', 'protein': {'variant': {'spdi': {'seq_id': 'NP_000228.1', 'position': 473, 'deleted_sequence': 'S', 'inserted_sequence': '*'}}, 'sequence_ontology': [{'name': 'stop_gained', 'accession': 'SO:0001587'}]}}]}}], 'seq_id': 'NC_000008.11', 'position': 19962212}\n"
     ]
    }
   ],
   "source": [
    "print(refseqAnnot)"
   ]
  },
  {
   "cell_type": "code",
   "execution_count": 10,
   "metadata": {},
   "outputs": [
    {
     "data": {
      "text/plain": [
       "[['328',\n",
       "  'C',\n",
       "  'lipoprotein lipase',\n",
       "  'LPL',\n",
       "  'NM_000237.2',\n",
       "  'TCA',\n",
       "  '1789',\n",
       "  'TCA',\n",
       "  'NP_000228.1',\n",
       "  'S',\n",
       "  '473',\n",
       "  'S'],\n",
       " ['328',\n",
       "  'G',\n",
       "  'lipoprotein lipase',\n",
       "  'LPL',\n",
       "  'NM_000237.2',\n",
       "  'TCA',\n",
       "  '1789',\n",
       "  'TCA',\n",
       "  'NP_000228.1',\n",
       "  'S',\n",
       "  '473',\n",
       "  'S']]"
      ]
     },
     "execution_count": 10,
     "metadata": {},
     "output_type": "execute_result"
    }
   ],
   "source": [
    "#RefSeq NM and NP annotations simple\n",
    "att.gene_allele_annot(rs_obj)"
   ]
  },
  {
   "cell_type": "code",
   "execution_count": 11,
   "metadata": {},
   "outputs": [
    {
     "data": {
      "text/plain": [
       "{'1000Genomes': {'an': 5008,\n",
       "  'maf_count': 463,\n",
       "  'maf': 0.0924520766773163,\n",
       "  'maf_allele': 'G'},\n",
       " 'ALSPAC': {'an': 3854,\n",
       "  'maf_count': 411,\n",
       "  'maf': 0.10664244940321743,\n",
       "  'maf_allele': 'G'},\n",
       " 'Estonian': {'an': 4480,\n",
       "  'maf_count': 300,\n",
       "  'maf': 0.06696428571428571,\n",
       "  'maf_allele': 'G'},\n",
       " 'ExAC': {'an': 121282,\n",
       "  'maf_count': 11340,\n",
       "  'maf': 0.09350109661779984,\n",
       "  'maf_allele': 'G'},\n",
       " 'GnomAD': {'an': 30932,\n",
       "  'maf_count': 2696,\n",
       "  'maf': 0.08715892926419243,\n",
       "  'maf_allele': 'G'},\n",
       " 'GnomAD_exomes': {'an': 245930,\n",
       "  'maf_count': 22602,\n",
       "  'maf': 0.09190420038222258,\n",
       "  'maf_allele': 'G'},\n",
       " 'TOPMED': {'an': 125568,\n",
       "  'maf_count': 11265,\n",
       "  'maf': 0.08971234709480122,\n",
       "  'maf_allele': 'G'},\n",
       " 'TWINSUK': {'an': 3708,\n",
       "  'maf_count': 400,\n",
       "  'maf': 0.10787486515641856,\n",
       "  'maf_allele': 'G'}}"
      ]
     },
     "execution_count": 11,
     "metadata": {},
     "output_type": "execute_result"
    }
   ],
   "source": [
    "#get Minor Allele frequency (MAF)\n",
    "att.mafs(rs_obj)"
   ]
  },
  {
   "cell_type": "code",
   "execution_count": 12,
   "metadata": {},
   "outputs": [
    {
     "data": {
      "text/plain": [
       "[1731801,\n",
       " 1907278,\n",
       " 2216713,\n",
       " 16642433,\n",
       " 16700901,\n",
       " 17157861,\n",
       " 17291198,\n",
       " 17903299,\n",
       " 18193044,\n",
       " 18275964,\n",
       " 18280754,\n",
       " 18513389,\n",
       " 18596051,\n",
       " 18660489,\n",
       " 18678614,\n",
       " 18922999,\n",
       " 19018513,\n",
       " 19041386,\n",
       " 19060910,\n",
       " 19131662,\n",
       " 19148283,\n",
       " 19185284,\n",
       " 19197348,\n",
       " 19200524,\n",
       " 19263529,\n",
       " 19299407,\n",
       " 19336475,\n",
       " 19379518,\n",
       " 19408013,\n",
       " 19435741,\n",
       " 19474294,\n",
       " 19489872,\n",
       " 19501493,\n",
       " 19557453,\n",
       " 19602472,\n",
       " 19729614,\n",
       " 19736300,\n",
       " 19773416,\n",
       " 19802338,\n",
       " 19878569,\n",
       " 19884647,\n",
       " 19951432,\n",
       " 20018036,\n",
       " 20018039,\n",
       " 20031591,\n",
       " 20150529,\n",
       " 20400780,\n",
       " 20410100,\n",
       " 20421590,\n",
       " 20429872,\n",
       " 20565774,\n",
       " 20650961,\n",
       " 21282362,\n",
       " 21288825,\n",
       " 21316679,\n",
       " 21407270,\n",
       " 21424820,\n",
       " 21466885,\n",
       " 21738485,\n",
       " 21767357,\n",
       " 21777205,\n",
       " 21840003,\n",
       " 21860704,\n",
       " 21995669,\n",
       " 22024213,\n",
       " 22171074,\n",
       " 22239554,\n",
       " 22318170,\n",
       " 22328972,\n",
       " 22425169,\n",
       " 22879966,\n",
       " 23101478,\n",
       " 23236364,\n",
       " 23497168,\n",
       " 24319689,\n",
       " 24886709,\n",
       " 24959828,\n",
       " 25176936,\n",
       " 25205864,\n",
       " 25430627,\n",
       " 25500319,\n",
       " 25579610,\n",
       " 25587205,\n",
       " 25626708,\n",
       " 25671407,\n",
       " 25788903,\n",
       " 25864161,\n",
       " 26101956,\n",
       " 26370976,\n",
       " 26446360,\n",
       " 26483159,\n",
       " 26786614,\n",
       " 26791477,\n",
       " 26820803,\n",
       " 26971241,\n",
       " 26975783,\n",
       " 26999119,\n",
       " 27277665,\n",
       " 27386434,\n",
       " 27535653,\n",
       " 27716211,\n",
       " 28115978,\n",
       " 28143480,\n",
       " 28167353,\n",
       " 28293042,\n",
       " 28577571,\n",
       " 28623937,\n",
       " 28639428,\n",
       " 28685248,\n",
       " 28705542,\n",
       " 29303622,\n",
       " 30026888,\n",
       " 30126146]"
      ]
     },
     "execution_count": 12,
     "metadata": {},
     "output_type": "execute_result"
    }
   ],
   "source": [
    "#get pubmed IDs (pmids) associated with RS\n",
    "att.pmids(rs_obj)"
   ]
  },
  {
   "cell_type": "code",
   "execution_count": 13,
   "metadata": {},
   "outputs": [
    {
     "data": {
      "text/plain": [
       "['C', 'G']"
      ]
     },
     "execution_count": 13,
     "metadata": {},
     "output_type": "execute_result"
    }
   ],
   "source": [
    "#RS alleles \n",
    "att.alleles(rs_obj)"
   ]
  },
  {
   "cell_type": "code",
   "execution_count": 14,
   "metadata": {},
   "outputs": [
    {
     "data": {
      "text/plain": [
       "'snv'"
      ]
     },
     "execution_count": 14,
     "metadata": {},
     "output_type": "execute_result"
    }
   ],
   "source": [
    "#RS variant type\n",
    "att.variation_type(rs_obj)"
   ]
  },
  {
   "cell_type": "code",
   "execution_count": 15,
   "metadata": {},
   "outputs": [
    {
     "data": {
      "text/plain": [
       "{'assembly': 'GRCh38.p12',\n",
       " 'assembly_accession': 'GCF_000001405.38',\n",
       " 'pos': 19962212,\n",
       " 'chr': '8'}"
      ]
     },
     "execution_count": 15,
     "metadata": {},
     "output_type": "execute_result"
    }
   ],
   "source": [
    "#RS genomic placement as chr position\n",
    "att.chr_pos(rs_obj)"
   ]
  },
  {
   "cell_type": "code",
   "execution_count": 16,
   "metadata": {},
   "outputs": [
    {
     "data": {
      "text/plain": [
       "[['benign'], ['likely-benign']]"
      ]
     },
     "execution_count": 16,
     "metadata": {},
     "output_type": "execute_result"
    }
   ],
   "source": [
    "att.clinical_significance(rs_obj)"
   ]
  }
 ],
 "metadata": {
  "kernelspec": {
   "display_name": "Python 3",
   "language": "python",
   "name": "python3"
  },
  "language_info": {
   "codemirror_mode": {
    "name": "ipython",
    "version": 3
   },
   "file_extension": ".py",
   "mimetype": "text/x-python",
   "name": "python",
   "nbconvert_exporter": "python",
   "pygments_lexer": "ipython3",
   "version": "3.6.7"
  }
 },
 "nbformat": 4,
 "nbformat_minor": 2
}
